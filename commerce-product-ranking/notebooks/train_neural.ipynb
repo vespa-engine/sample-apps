{
  "nbformat": 4,
  "nbformat_minor": 0,
  "metadata": {
    "colab": {
      "provenance": [],
      "collapsed_sections": [],
      "private_outputs": true
    },
    "kernelspec": {
      "name": "python3",
      "display_name": "Python 3"
    },
    "language_info": {
      "name": "python"
    },
    "accelerator": "GPU",
    "gpuClass": "standard"
  },
  "cells": [
    {
      "cell_type": "code",
      "execution_count": null,
      "metadata": {
        "id": "vTxXO6iz11QA"
      },
      "outputs": [],
      "source": [
        "!pip3 install --upgrade pandas requests sentence-transformers transformers pyarrow"
      ]
    },
    {
      "cell_type": "code",
      "source": [
        "!git lfs clone https://github.com/amazon-science/esci-data.git"
      ],
      "metadata": {
        "id": "QeYjs8me2eh6"
      },
      "execution_count": null,
      "outputs": []
    },
    {
      "cell_type": "code",
      "source": [
        "document_field=\"product_title\"\n",
        "batch_size=128"
      ],
      "metadata": {
        "id": "39jIlLtdqjF1"
      },
      "execution_count": null,
      "outputs": []
    },
    {
      "cell_type": "code",
      "source": [
        "!ls -l  esci-data/shopping_queries_dataset"
      ],
      "metadata": {
        "id": "oh1_VB7y2kkb"
      },
      "execution_count": null,
      "outputs": []
    },
    {
      "cell_type": "code",
      "source": [
        "from sentence_transformers.cross_encoder import CrossEncoder\n",
        "from sentence_transformers.cross_encoder.evaluation import CERerankingEvaluator\n",
        "from sentence_transformers import SentenceTransformer, InputExample, losses\n",
        "from sentence_transformers import evaluation\n",
        "import os\n",
        "import pandas as pd\n",
        "import torch\n",
        "from torch.utils.data import DataLoader\n",
        "from sklearn.model_selection import train_test_split"
      ],
      "metadata": {
        "id": "mPtl2Rpf2tUy"
      },
      "execution_count": null,
      "outputs": []
    },
    {
      "cell_type": "code",
      "source": [
        "device = torch.device(\"cuda\" if torch.cuda.is_available() else \"cpu\")"
      ],
      "metadata": {
        "id": "DrCmBTY423QN"
      },
      "execution_count": null,
      "outputs": []
    },
    {
      "cell_type": "code",
      "source": [
        "df_examples = pd.read_parquet('esci-data/shopping_queries_dataset/shopping_queries_dataset_examples.parquet')"
      ],
      "metadata": {
        "id": "zTMDayWK29Vl"
      },
      "execution_count": null,
      "outputs": []
    },
    {
      "cell_type": "code",
      "source": [
        "df_products = pd.read_parquet('esci-data/shopping_queries_dataset/shopping_queries_dataset_products.parquet')"
      ],
      "metadata": {
        "id": "pHnYbG6n4aE4"
      },
      "execution_count": null,
      "outputs": []
    },
    {
      "cell_type": "code",
      "source": [
        "df_examples_products = pd.merge(\n",
        "        df_examples,\n",
        "        df_products,\n",
        "        how='left',\n",
        "        left_on=['product_locale', 'product_id'],\n",
        "        right_on=['product_locale', 'product_id']\n",
        "    )"
      ],
      "metadata": {
        "id": "h9-aen_RHSmp"
      },
      "execution_count": null,
      "outputs": []
    },
    {
      "cell_type": "code",
      "source": [
        "esci_label2gain = {\n",
        "        'E' : 1,\n",
        "        'S' : 0.1,\n",
        "        'C' : 0.01,\n",
        "        'I' : 0,\n",
        "    }"
      ],
      "metadata": {
        "id": "kHYgt-v_HxNi"
      },
      "execution_count": null,
      "outputs": []
    },
    {
      "cell_type": "code",
      "source": [
        "df_examples_products = df_examples_products[df_examples_products['small_version'] == 1]\n",
        "df_examples_products = df_examples_products[df_examples_products['split'] == \"train\"]\n",
        "df_examples_products = df_examples_products[df_examples_products['product_locale'] == 'us']\n",
        "df_examples_products['gain'] = df_examples_products['esci_label'].apply(lambda esci_label: esci_label2gain[esci_label])"
      ],
      "metadata": {
        "id": "uVd8Gg2zH3d3"
      },
      "execution_count": null,
      "outputs": []
    },
    {
      "cell_type": "markdown",
      "source": [
        "Download our own train/dev split "
      ],
      "metadata": {
        "id": "QbTIf13fl_pe"
      }
    },
    {
      "cell_type": "code",
      "source": [
        "train_queries = pd.read_parquet(\"https://data.vespa.oath.cloud/sample-apps-data/train_query_ids.parquet\")['query_id'].unique()"
      ],
      "metadata": {
        "id": "moFvci3uldkR"
      },
      "execution_count": null,
      "outputs": []
    },
    {
      "cell_type": "code",
      "source": [
        "\n",
        "list_query_id_train = train_queries"
      ],
      "metadata": {
        "id": "HoG-ZKG2IvmH"
      },
      "execution_count": null,
      "outputs": []
    },
    {
      "cell_type": "code",
      "source": [
        "len(train_queries)"
      ],
      "metadata": {
        "id": "fpf9LR1Y3nP1"
      },
      "execution_count": null,
      "outputs": []
    },
    {
      "cell_type": "code",
      "source": [
        "df_examples_products = df_examples_products[['query_id', 'query', 'product_title','product_description', 'product_bullet_point', 'gain']]\n",
        "df_train = df_examples_products[df_examples_products['query_id'].isin(list_query_id_train)]"
      ],
      "metadata": {
        "id": "0aq4TwrhI70I"
      },
      "execution_count": null,
      "outputs": []
    },
    {
      "cell_type": "code",
      "source": [
        "def replace_none(text):\n",
        "  if text == None:\n",
        "    text = ''\n",
        "  return text"
      ],
      "metadata": {
        "id": "Iyl2hLGrs6EP"
      },
      "execution_count": null,
      "outputs": []
    },
    {
      "cell_type": "code",
      "source": [
        "train_samples = []\n",
        "for (_, row) in df_train.iterrows():\n",
        "  train_samples.append(InputExample(texts=[row['query'], replace_none(row[document_field])], label=float(row['gain'])))\n",
        "train_dataloader = DataLoader(train_samples, shuffle=True, batch_size=batch_size, drop_last=True)"
      ],
      "metadata": {
        "id": "kyj-XYGbJW3-"
      },
      "execution_count": null,
      "outputs": []
    },
    {
      "cell_type": "code",
      "source": [
        "model_name = 'cross-encoder/ms-marco-MiniLM-L-6-v2'\n",
        "num_epochs = 2\n",
        "num_labels = 1\n",
        "max_length = 96\n",
        "    \n",
        "model = CrossEncoder(\n",
        "  model_name, \n",
        "  num_labels=num_labels, \n",
        "  max_length=max_length, \n",
        "  default_activation_function=torch.nn.Identity(), \n",
        "  device=device\n",
        ")\n",
        "loss_fct=torch.nn.MSELoss()\n",
        "warmup_steps = 10\n",
        "lr = 4e-6"
      ],
      "metadata": {
        "id": "PCsi_zz7Kdb5"
      },
      "execution_count": null,
      "outputs": []
    },
    {
      "cell_type": "code",
      "source": [
        "model.fit(\n",
        "  train_dataloader=train_dataloader,\n",
        "  loss_fct=loss_fct,\n",
        "  epochs=num_epochs,\n",
        "  optimizer_params={'lr': lr},\n",
        ")\n",
        "model.save(\"model\")"
      ],
      "metadata": {
        "id": "W_YbUT6nLQbv"
      },
      "execution_count": null,
      "outputs": []
    },
    {
      "cell_type": "code",
      "source": [
        "token='HF_TOKEN'"
      ],
      "metadata": {
        "id": "MsCjw8buRtUR"
      },
      "execution_count": null,
      "outputs": []
    },
    {
      "cell_type": "code",
      "source": [
        "from transformers import AutoModelForSequenceClassification\n",
        "from transformers import AutoTokenizer"
      ],
      "metadata": {
        "id": "a_ToaQhsR1P8"
      },
      "execution_count": null,
      "outputs": []
    },
    {
      "cell_type": "code",
      "source": [
        "automodel = AutoModelForSequenceClassification.from_pretrained(\"./model/\")"
      ],
      "metadata": {
        "id": "Gvd3dZD-SiBC"
      },
      "execution_count": null,
      "outputs": []
    },
    {
      "cell_type": "code",
      "source": [
        "autotokenizer = AutoTokenizer.from_pretrained(\"./model/\")"
      ],
      "metadata": {
        "id": "g3YTbSQUSrtU"
      },
      "execution_count": null,
      "outputs": []
    },
    {
      "cell_type": "code",
      "source": [
        "name = document_field + \"_ranker\""
      ],
      "metadata": {
        "id": "ZjF1BqBanRCG"
      },
      "execution_count": null,
      "outputs": []
    },
    {
      "cell_type": "code",
      "source": [
        "automodel.push_to_hub(name, use_auth_token=token)"
      ],
      "metadata": {
        "id": "5l71_N63SwAQ"
      },
      "execution_count": null,
      "outputs": []
    },
    {
      "cell_type": "code",
      "source": [
        "autotokenizer.push_to_hub(name, use_auth_token=token)"
      ],
      "metadata": {
        "id": "i2QIZNz5S-NV"
      },
      "execution_count": null,
      "outputs": []
    },
    {
      "cell_type": "markdown",
      "source": [
        "Train bi-encoder with mean-pooling and Cosine Similarity (angular)"
      ],
      "metadata": {
        "id": "f_ugeHDCjF1Y"
      }
    },
    {
      "cell_type": "code",
      "source": [
        "model_name = 'sentence-transformers/all-MiniLM-L6-v2'\n",
        "model = SentenceTransformer(model_name)\n",
        "train_loss = losses.CosineSimilarityLoss(model=model)\n",
        "num_epochs = 1"
      ],
      "metadata": {
        "id": "RJS_dpbgigCy"
      },
      "execution_count": null,
      "outputs": []
    },
    {
      "cell_type": "code",
      "source": [
        "model.fit(\n",
        "  train_objectives=[(train_dataloader, train_loss)],\n",
        "  epochs=num_epochs,\n",
        "  output_path=\"bi-encoder\",\n",
        ")"
      ],
      "metadata": {
        "id": "mGwxOjziiy5v"
      },
      "execution_count": null,
      "outputs": []
    },
    {
      "cell_type": "code",
      "source": [
        "from transformers import BertModel "
      ],
      "metadata": {
        "id": "hXI_lE5_pxle"
      },
      "execution_count": null,
      "outputs": []
    },
    {
      "cell_type": "code",
      "source": [
        "autmodel = BertModel.from_pretrained(\"./bi-encoder\")"
      ],
      "metadata": {
        "id": "rEsYWzKCp1EB"
      },
      "execution_count": null,
      "outputs": []
    },
    {
      "cell_type": "code",
      "source": [
        "name = document_field + \"_encoder\""
      ],
      "metadata": {
        "id": "lhIwp1FEntZs"
      },
      "execution_count": null,
      "outputs": []
    },
    {
      "cell_type": "code",
      "source": [
        "autmodel.push_to_hub(name, use_auth_token=token)"
      ],
      "metadata": {
        "id": "1ImvYrM6p6fv"
      },
      "execution_count": null,
      "outputs": []
    },
    {
      "cell_type": "code",
      "source": [
        "autotokenizer.push_to_hub(name, use_auth_token=token)"
      ],
      "metadata": {
        "id": "MgZCIKspqIJE"
      },
      "execution_count": null,
      "outputs": []
    }
  ]
}
