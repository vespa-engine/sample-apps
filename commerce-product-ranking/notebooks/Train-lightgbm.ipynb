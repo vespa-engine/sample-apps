{
 "cells": [
  {
   "cell_type": "markdown",
   "id": "28cb53b1",
   "metadata": {},
   "source": [
    "# Learning to Rank using LightGBM\n",
    "\n",
    "This notebook demonstrates how to train a ranking model using [LightGBM](https://lightgbm.readthedocs.io/). \n",
    "\n",
    "This notebook is part of the [commerce product ranking sample app](https://github.com/vespa-engine/sample-apps/tree/master/commerce-product-ranking). \n",
    "\n",
    "Blog post series:\n",
    "\n",
    "* [Improving Product Search with Learning to Rank - part one](https://blog.vespa.ai/improving-product-search-with-ltr/)\n",
    "* [Improving Product Search with Learning to Rank - part two](https://blog.vespa.ai/improving-product-search-with-ltr-part-two/)\n",
    "* [Improving Product Search with Learning to Rank - part three](https://blog.vespa.ai/improving-product-search-with-ltr-part-three/)\n",
    "\n",
    "This work uses the largest product relevance dataset released by Amazon:\n",
    "\n",
    ">We introduce the “Shopping Queries Data Set”, a large dataset of difficult search queries, released with the aim of fostering research in the area of semantic matching of queries and products. For each query, the dataset provides a list of up to 40 potentially relevant results, together with ESCI relevance judgements (Exact, Substitute, Complement, Irrelevant) indicating the relevance of the product to the query. Each query-product pair is accompanied by additional information. The dataset is multilingual, as it contains queries in English, Japanese, and Spanish.\n",
    "\n",
    "The dataset is found at [amazon-science/esci-data](https://github.com/amazon-science/esci-data). \n",
    "The dataset and is released under the [Apache 2.0 license](https://github.com/amazon-science/esci-data/blob/main/LICENSE).\n",
    "\n"
   ]
  },
  {
   "cell_type": "code",
   "execution_count": 1,
   "id": "d18a6151",
   "metadata": {},
   "outputs": [
    {
     "name": "stdout",
     "output_type": "stream",
     "text": [
      "Requirement already satisfied: pandas in /usr/local/lib/python3.10/site-packages (1.5.1)\n",
      "Requirement already satisfied: lightgbm in /usr/local/lib/python3.10/site-packages (3.3.3)\n",
      "Requirement already satisfied: numpy in /usr/local/lib/python3.10/site-packages (1.23.4)\n",
      "Requirement already satisfied: python-dateutil>=2.8.1 in /usr/local/lib/python3.10/site-packages (from pandas) (2.8.2)\n",
      "Requirement already satisfied: pytz>=2020.1 in /usr/local/lib/python3.10/site-packages (from pandas) (2022.5)\n",
      "Requirement already satisfied: wheel in /usr/local/lib/python3.10/site-packages (from lightgbm) (0.37.1)\n",
      "Requirement already satisfied: scipy in /usr/local/lib/python3.10/site-packages (from lightgbm) (1.9.3)\n",
      "Requirement already satisfied: scikit-learn!=0.22.0 in /usr/local/lib/python3.10/site-packages (from lightgbm) (1.1.3)\n",
      "Requirement already satisfied: six>=1.5 in /usr/local/lib/python3.10/site-packages (from python-dateutil>=2.8.1->pandas) (1.16.0)\n",
      "Requirement already satisfied: joblib>=1.0.0 in /usr/local/lib/python3.10/site-packages (from scikit-learn!=0.22.0->lightgbm) (1.2.0)\n",
      "Requirement already satisfied: threadpoolctl>=2.0.0 in /usr/local/lib/python3.10/site-packages (from scikit-learn!=0.22.0->lightgbm) (3.1.0)\n",
      "\n",
      "\u001b[1m[\u001b[0m\u001b[34;49mnotice\u001b[0m\u001b[1;39;49m]\u001b[0m\u001b[39;49m A new release of pip available: \u001b[0m\u001b[31;49m22.3\u001b[0m\u001b[39;49m -> \u001b[0m\u001b[32;49m22.3.1\u001b[0m\n",
      "\u001b[1m[\u001b[0m\u001b[34;49mnotice\u001b[0m\u001b[1;39;49m]\u001b[0m\u001b[39;49m To update, run: \u001b[0m\u001b[32;49mpython3.10 -m pip install --upgrade pip\u001b[0m\n"
     ]
    }
   ],
   "source": [
    "!pip3 install pandas lightgbm numpy pyarrow matplotlib"
   ]
  },
  {
   "cell_type": "code",
   "execution_count": 2,
   "id": "12d09526",
   "metadata": {},
   "outputs": [],
   "source": [
    "import pandas\n",
    "import lightgbm "
   ]
  },
  {
   "cell_type": "markdown",
   "id": "e9dd7c77",
   "metadata": {},
   "source": [
    "Read the published training data. This dataframe contains scraped features from a running Vespa instance, using a  scrape rank-profile, returning calculated features using [match-features](https://docs.vespa.ai/en/reference/schema-reference.html#match-features)."
   ]
  },
  {
   "cell_type": "code",
   "execution_count": 3,
   "id": "d6ff3429",
   "metadata": {},
   "outputs": [],
   "source": [
    "train = pandas.read_parquet('https://data.vespa-cloud.com/sample-apps-data/product_ranking_train.parquet')"
   ]
  },
  {
   "cell_type": "markdown",
   "id": "292a329e",
   "metadata": {},
   "source": [
    "Sampling to view some features "
   ]
  },
  {
   "cell_type": "code",
   "execution_count": 4,
   "id": "4bc56c95",
   "metadata": {},
   "outputs": [],
   "source": [
    "sample = train[['query', 'product_id','bm25(title)', 'bm25(description)', 'bi_encoder', 'esci_label']].sample(10)"
   ]
  },
  {
   "cell_type": "code",
   "execution_count": 5,
   "id": "ddc9d17c",
   "metadata": {},
   "outputs": [
    {
     "data": {
      "text/html": [
       "<div>\n",
       "<style scoped>\n",
       "    .dataframe tbody tr th:only-of-type {\n",
       "        vertical-align: middle;\n",
       "    }\n",
       "\n",
       "    .dataframe tbody tr th {\n",
       "        vertical-align: top;\n",
       "    }\n",
       "\n",
       "    .dataframe thead th {\n",
       "        text-align: right;\n",
       "    }\n",
       "</style>\n",
       "<table border=\"1\" class=\"dataframe\">\n",
       "  <thead>\n",
       "    <tr style=\"text-align: right;\">\n",
       "      <th></th>\n",
       "      <th>query</th>\n",
       "      <th>product_id</th>\n",
       "      <th>bm25(title)</th>\n",
       "      <th>bm25(description)</th>\n",
       "      <th>bi_encoder</th>\n",
       "      <th>esci_label</th>\n",
       "    </tr>\n",
       "  </thead>\n",
       "  <tbody>\n",
       "    <tr>\n",
       "      <th>197378</th>\n",
       "      <td>how universe works</td>\n",
       "      <td>B083XML9BC</td>\n",
       "      <td>0.000000</td>\n",
       "      <td>0.000000</td>\n",
       "      <td>0.442087</td>\n",
       "      <td>E</td>\n",
       "    </tr>\n",
       "    <tr>\n",
       "      <th>291713</th>\n",
       "      <td>peruvian fedora hat</td>\n",
       "      <td>B07TX28WD5</td>\n",
       "      <td>6.301285</td>\n",
       "      <td>8.807666</td>\n",
       "      <td>0.475027</td>\n",
       "      <td>S</td>\n",
       "    </tr>\n",
       "    <tr>\n",
       "      <th>262598</th>\n",
       "      <td>monster slim jim bulk</td>\n",
       "      <td>B08MC9KVDG</td>\n",
       "      <td>19.809741</td>\n",
       "      <td>0.000000</td>\n",
       "      <td>0.489854</td>\n",
       "      <td>E</td>\n",
       "    </tr>\n",
       "    <tr>\n",
       "      <th>263109</th>\n",
       "      <td>moped scooter gas moped</td>\n",
       "      <td>B094NX8D9F</td>\n",
       "      <td>28.225088</td>\n",
       "      <td>34.293286</td>\n",
       "      <td>0.447519</td>\n",
       "      <td>C</td>\n",
       "    </tr>\n",
       "    <tr>\n",
       "      <th>334172</th>\n",
       "      <td>seiko watch skx011j1</td>\n",
       "      <td>B00SC83784</td>\n",
       "      <td>14.132849</td>\n",
       "      <td>19.335447</td>\n",
       "      <td>0.477131</td>\n",
       "      <td>S</td>\n",
       "    </tr>\n",
       "    <tr>\n",
       "      <th>5143</th>\n",
       "      <td>/ to keep plastic from babies and not use this...</td>\n",
       "      <td>B08L7DNXT9</td>\n",
       "      <td>0.323208</td>\n",
       "      <td>11.934175</td>\n",
       "      <td>0.437449</td>\n",
       "      <td>I</td>\n",
       "    </tr>\n",
       "    <tr>\n",
       "      <th>169800</th>\n",
       "      <td>galaxy tab s-p580 sytlus</td>\n",
       "      <td>B07TS2N27S</td>\n",
       "      <td>8.957989</td>\n",
       "      <td>14.365782</td>\n",
       "      <td>0.474360</td>\n",
       "      <td>I</td>\n",
       "    </tr>\n",
       "    <tr>\n",
       "      <th>100670</th>\n",
       "      <td>car seat mirror without headrest</td>\n",
       "      <td>B07CZJXVD3</td>\n",
       "      <td>16.122397</td>\n",
       "      <td>22.590379</td>\n",
       "      <td>0.578379</td>\n",
       "      <td>E</td>\n",
       "    </tr>\n",
       "    <tr>\n",
       "      <th>124862</th>\n",
       "      <td>cup holder hook for knee scooter basket</td>\n",
       "      <td>B01M16W8UU</td>\n",
       "      <td>8.221917</td>\n",
       "      <td>8.765739</td>\n",
       "      <td>0.437110</td>\n",
       "      <td>I</td>\n",
       "    </tr>\n",
       "    <tr>\n",
       "      <th>149858</th>\n",
       "      <td>envy magnetic lashes</td>\n",
       "      <td>B0057XP7VC</td>\n",
       "      <td>8.789868</td>\n",
       "      <td>0.000000</td>\n",
       "      <td>0.494379</td>\n",
       "      <td>E</td>\n",
       "    </tr>\n",
       "  </tbody>\n",
       "</table>\n",
       "</div>"
      ],
      "text/plain": [
       "                                                    query  product_id  \\\n",
       "197378                                 how universe works  B083XML9BC   \n",
       "291713                                peruvian fedora hat  B07TX28WD5   \n",
       "262598                              monster slim jim bulk  B08MC9KVDG   \n",
       "263109                            moped scooter gas moped  B094NX8D9F   \n",
       "334172                               seiko watch skx011j1  B00SC83784   \n",
       "5143    / to keep plastic from babies and not use this...  B08L7DNXT9   \n",
       "169800                           galaxy tab s-p580 sytlus  B07TS2N27S   \n",
       "100670                   car seat mirror without headrest  B07CZJXVD3   \n",
       "124862            cup holder hook for knee scooter basket  B01M16W8UU   \n",
       "149858                               envy magnetic lashes  B0057XP7VC   \n",
       "\n",
       "        bm25(title)  bm25(description)  bi_encoder esci_label  \n",
       "197378     0.000000           0.000000    0.442087          E  \n",
       "291713     6.301285           8.807666    0.475027          S  \n",
       "262598    19.809741           0.000000    0.489854          E  \n",
       "263109    28.225088          34.293286    0.447519          C  \n",
       "334172    14.132849          19.335447    0.477131          S  \n",
       "5143       0.323208          11.934175    0.437449          I  \n",
       "169800     8.957989          14.365782    0.474360          I  \n",
       "100670    16.122397          22.590379    0.578379          E  \n",
       "124862     8.221917           8.765739    0.437110          I  \n",
       "149858     8.789868           0.000000    0.494379          E  "
      ]
     },
     "execution_count": 5,
     "metadata": {},
     "output_type": "execute_result"
    }
   ],
   "source": [
    "sample"
   ]
  },
  {
   "cell_type": "markdown",
   "id": "507ff837",
   "metadata": {},
   "source": [
    "## Feature exploration \n",
    "\n",
    "The DataFrame contains all the train examples and each row have a set of features produced by Vespa. These features have been computed in Vespa and scraped using a simple routine that scrapes features for a set of query, product pairs. \n",
    "\n",
    "The following plots several features versus the target label \n",
    "\n",
    "- BM25(title) - standard bm25 over the title\n",
    "- bi_encoder - the dense semantic model score \n",
    "- cross_encoder - the cross-encoder semantic model  "
   ]
  },
  {
   "cell_type": "code",
   "execution_count": 6,
   "id": "ff062ff4",
   "metadata": {},
   "outputs": [
    {
     "data": {
      "text/plain": [
       "<AxesSubplot: xlabel='esci_label', ylabel='bm25(title)'>"
      ]
     },
     "execution_count": 6,
     "metadata": {},
     "output_type": "execute_result"
    },
    {
     "data": {
      "image/png": "[encoded data removed]",
      "text/plain": [
       "<Figure size 1000x1000 with 1 Axes>"
      ]
     },
     "metadata": {},
     "output_type": "display_data"
    }
   ],
   "source": [
    "sample.plot(x='esci_label',y='bm25(title)',kind='scatter',figsize=(10,10))"
   ]
  },
  {
   "cell_type": "code",
   "execution_count": 7,
   "id": "5f8ee8a7",
   "metadata": {},
   "outputs": [
    {
     "data": {
      "text/plain": [
       "<AxesSubplot: xlabel='esci_label', ylabel='bi_encoder'>"
      ]
     },
     "execution_count": 7,
     "metadata": {},
     "output_type": "execute_result"
    },
    {
     "data": {
      "image/png": "[encoded data removed]",
      "text/plain": [
       "<Figure size 1000x1000 with 1 Axes>"
      ]
     },
     "metadata": {},
     "output_type": "display_data"
    }
   ],
   "source": [
    "sample.plot(x='esci_label',y='bi_encoder',kind='scatter',figsize=(10,10))"
   ]
  },
  {
   "cell_type": "markdown",
   "id": "190747b5",
   "metadata": {},
   "source": [
    "## Dataset and split processing\n",
    "Convert the dataset's textual labels Exact, Substitute, Complement, Irrelevant to numeric labels. LightGBM only supports integer labels, but we can map from integer labels to label gain. "
   ]
  },
  {
   "cell_type": "code",
   "execution_count": 8,
   "id": "8a08fc7b",
   "metadata": {},
   "outputs": [],
   "source": [
    "esci_2_numeric = {\n",
    "        'E' : 4,\n",
    "        'S' : 3,\n",
    "        'C' : 2,\n",
    "        'I' : 1,\n",
    "}\n",
    "train['label'] = train['esci_label'].apply(lambda esci_label: esci_2_numeric[esci_label])"
   ]
  },
  {
   "cell_type": "markdown",
   "id": "a664c4a3",
   "metadata": {},
   "source": [
    "We create a dev split from the original train split (80:20 split)"
   ]
  },
  {
   "cell_type": "code",
   "execution_count": 9,
   "id": "1294b310",
   "metadata": {},
   "outputs": [],
   "source": [
    "train_queries = pandas.read_parquet('https://data.vespa-cloud.com/sample-apps-data/train_query_ids.parquet')['query_id'].unique()\n",
    "dev_queries = pandas.read_parquet('https://data.vespa-cloud.com/sample-apps-data/dev_query_ids.parquet')['query_id'].unique()"
   ]
  },
  {
   "cell_type": "markdown",
   "id": "84872077",
   "metadata": {},
   "source": [
    "We filter so that we end up with two splits or the original train dataset. This way we can evaluate performance on the dev set and we avoid tuning hyperparameters based on observed test set performance. "
   ]
  },
  {
   "cell_type": "code",
   "execution_count": 10,
   "id": "de18b91c",
   "metadata": {},
   "outputs": [],
   "source": [
    "df_train = train[train['query_id'].isin(train_queries)]\n",
    "df_dev = train[train['query_id'].isin(dev_queries)]"
   ]
  },
  {
   "cell_type": "markdown",
   "id": "f6548de0",
   "metadata": {},
   "source": [
    "We need to group by query_id so that LightGBM knows which products belongs to which query."
   ]
  },
  {
   "cell_type": "code",
   "execution_count": 11,
   "id": "acf75548",
   "metadata": {},
   "outputs": [],
   "source": [
    "train_query_groups=df_train['query_id'].value_counts().sort_index().values\n",
    "dev_query_groups=df_dev['query_id'].value_counts().sort_index().values"
   ]
  },
  {
   "cell_type": "markdown",
   "id": "73177d51",
   "metadata": {},
   "source": [
    "The label we want to predict  "
   ]
  },
  {
   "cell_type": "code",
   "execution_count": 12,
   "id": "5fdadc19",
   "metadata": {},
   "outputs": [],
   "source": [
    "train_target = df_train['label'].values\n",
    "dev_target = df_dev['label'].values"
   ]
  },
  {
   "cell_type": "markdown",
   "id": "398c14a9",
   "metadata": {},
   "source": [
    "Drop columns that we don't need during training, after this we are left with just the pure features"
   ]
  },
  {
   "cell_type": "code",
   "execution_count": 13,
   "id": "42e3d3b9",
   "metadata": {},
   "outputs": [],
   "source": [
    "drop_fields = ['example_id', 'query', 'query_id', 'product_id', 'product_locale', 'esci_label', 'small_version', 'large_version', 'split', 'label']\n"
   ]
  },
  {
   "cell_type": "code",
   "execution_count": 14,
   "id": "ea3cba73",
   "metadata": {},
   "outputs": [],
   "source": [
    "df_dev = df_dev.drop(drop_fields, axis=1)\n",
    "df_train = df_train.drop(drop_fields, axis=1)"
   ]
  },
  {
   "cell_type": "markdown",
   "id": "8d7e6bce",
   "metadata": {},
   "source": [
    "In this case, we choose a subset of features to train with. Deleting this cell, trains on all available features. "
   ]
  },
  {
   "cell_type": "code",
   "execution_count": 15,
   "id": "3b2e6b1f",
   "metadata": {},
   "outputs": [],
   "source": [
    "df_dev = df_dev[['bi_encoder', 'bm25(title)', 'bm25(description)', 'bm25(bullets)', 'nativeRank(title)']]\n",
    "df_train = df_train[['bi_encoder', 'bm25(title)', 'bm25(description)', 'bm25(bullets)', 'nativeRank(title)']]"
   ]
  },
  {
   "cell_type": "markdown",
   "id": "582c12c6",
   "metadata": {},
   "source": [
    "## Prepare for training the model\n",
    "Create lightgbm.Dataset of the train and dev splits. Please notice the group parameter so that the model training knows which data points belongs to which query."
   ]
  },
  {
   "cell_type": "code",
   "execution_count": 16,
   "id": "805cfe29",
   "metadata": {},
   "outputs": [],
   "source": [
    "train_ds = lightgbm.Dataset(df_train, train_target, group=train_query_groups)\n",
    "dev_ds = lightgbm.Dataset(df_dev, dev_target, group=dev_query_groups)"
   ]
  },
  {
   "cell_type": "markdown",
   "id": "82fbf5db",
   "metadata": {},
   "source": [
    "## Model Training\n",
    "\n",
    "Configure hyperparameters. \n",
    " \n",
    "Note the **label_gain** parameter, this array is used to get the gain for each label, by label_gain[label]. \n",
    "We have 4 labels (1,2,3,4), but the array needs to be of length 5 because of the label lookup. \n",
    "\n",
    "In this case label 1 (irrelevant) has 0 gain, label 2 (Complement) has gain 0.01, label 3 (Subsitute) has gain 0.1, and finally label 4 has gain 1. \n",
    "\n",
    "We use **eval_at** 200, to ensure that we measure NDCG across all products for a query, and not a cutoff at a certain level (e.g NDCG@10). "
   ]
  },
  {
   "cell_type": "code",
   "execution_count": 17,
   "id": "a39a794f",
   "metadata": {},
   "outputs": [],
   "source": [
    "params = {\n",
    "  'objective': 'lambdarank',\n",
    "  'metric': 'ndcg', \n",
    "  'label_gain' : [0, 0, 0.01, 0.1, 1],\n",
    "  'eta':0.05,\n",
    "  'eval_at': '200', \n",
    "  'num_leaves': 31,\n",
    "  'early_stopping_round': 100,\n",
    "  'min_data_in_leaf': 40,\n",
    "  'feature_fraction':0.6,\n",
    "  'feature_fraction_bynode':0.8\n",
    "}"
   ]
  },
  {
   "cell_type": "markdown",
   "id": "430b272f",
   "metadata": {},
   "source": [
    "Train the model, output's NDCG for both the train and our dev split. We use `early_stopping_round=100` which will stop training if the validation dataset accuracy does not improve.  "
   ]
  },
  {
   "cell_type": "code",
   "execution_count": 18,
   "id": "574a6fe8",
   "metadata": {},
   "outputs": [
    {
     "name": "stdout",
     "output_type": "stream",
     "text": [
      "[LightGBM] [Warning] Auto-choosing col-wise multi-threading, the overhead of testing was 0.028371 seconds.\n",
      "You can set `force_col_wise=true` to remove the overhead.\n",
      "[LightGBM] [Info] Total Bins 1275\n",
      "[LightGBM] [Info] Number of data points in the train set: 335674, number of used features: 5\n",
      "[1]\ttraining's ndcg@200: 0.832641\tvalid_1's ndcg@200: 0.823551\n",
      "Training until validation scores don't improve for 100 rounds\n",
      "[2]\ttraining's ndcg@200: 0.854079\tvalid_1's ndcg@200: 0.84025\n",
      "[3]\ttraining's ndcg@200: 0.854252\tvalid_1's ndcg@200: 0.841185\n",
      "[4]\ttraining's ndcg@200: 0.852533\tvalid_1's ndcg@200: 0.839668\n",
      "[5]\ttraining's ndcg@200: 0.850882\tvalid_1's ndcg@200: 0.839149\n",
      "[6]\ttraining's ndcg@200: 0.855214\tvalid_1's ndcg@200: 0.84187\n",
      "[7]\ttraining's ndcg@200: 0.853938\tvalid_1's ndcg@200: 0.841028\n",
      "[8]\ttraining's ndcg@200: 0.856267\tvalid_1's ndcg@200: 0.843034\n",
      "[9]\ttraining's ndcg@200: 0.855599\tvalid_1's ndcg@200: 0.842338\n",
      "[10]\ttraining's ndcg@200: 0.857227\tvalid_1's ndcg@200: 0.843116\n",
      "[11]\ttraining's ndcg@200: 0.85662\tvalid_1's ndcg@200: 0.842545\n",
      "[12]\ttraining's ndcg@200: 0.85775\tvalid_1's ndcg@200: 0.843612\n",
      "[13]\ttraining's ndcg@200: 0.857365\tvalid_1's ndcg@200: 0.843196\n",
      "[14]\ttraining's ndcg@200: 0.858255\tvalid_1's ndcg@200: 0.843661\n",
      "[15]\ttraining's ndcg@200: 0.857876\tvalid_1's ndcg@200: 0.843614\n",
      "[16]\ttraining's ndcg@200: 0.858769\tvalid_1's ndcg@200: 0.843839\n",
      "[17]\ttraining's ndcg@200: 0.858768\tvalid_1's ndcg@200: 0.8438\n",
      "[18]\ttraining's ndcg@200: 0.859402\tvalid_1's ndcg@200: 0.844313\n",
      "[19]\ttraining's ndcg@200: 0.859155\tvalid_1's ndcg@200: 0.844129\n",
      "[20]\ttraining's ndcg@200: 0.859656\tvalid_1's ndcg@200: 0.844473\n",
      "[21]\ttraining's ndcg@200: 0.859776\tvalid_1's ndcg@200: 0.843993\n",
      "[22]\ttraining's ndcg@200: 0.860169\tvalid_1's ndcg@200: 0.844057\n",
      "[23]\ttraining's ndcg@200: 0.8604\tvalid_1's ndcg@200: 0.844146\n",
      "[24]\ttraining's ndcg@200: 0.860277\tvalid_1's ndcg@200: 0.844082\n",
      "[25]\ttraining's ndcg@200: 0.860293\tvalid_1's ndcg@200: 0.844062\n",
      "[26]\ttraining's ndcg@200: 0.860676\tvalid_1's ndcg@200: 0.844154\n",
      "[27]\ttraining's ndcg@200: 0.86083\tvalid_1's ndcg@200: 0.844226\n",
      "[28]\ttraining's ndcg@200: 0.861014\tvalid_1's ndcg@200: 0.844137\n",
      "[29]\ttraining's ndcg@200: 0.861034\tvalid_1's ndcg@200: 0.844404\n",
      "[30]\ttraining's ndcg@200: 0.861198\tvalid_1's ndcg@200: 0.84427\n",
      "[31]\ttraining's ndcg@200: 0.861369\tvalid_1's ndcg@200: 0.844325\n",
      "[32]\ttraining's ndcg@200: 0.861487\tvalid_1's ndcg@200: 0.844506\n",
      "[33]\ttraining's ndcg@200: 0.861345\tvalid_1's ndcg@200: 0.844597\n",
      "[34]\ttraining's ndcg@200: 0.861633\tvalid_1's ndcg@200: 0.844482\n",
      "[35]\ttraining's ndcg@200: 0.86189\tvalid_1's ndcg@200: 0.844315\n",
      "[36]\ttraining's ndcg@200: 0.861831\tvalid_1's ndcg@200: 0.844543\n",
      "[37]\ttraining's ndcg@200: 0.861872\tvalid_1's ndcg@200: 0.844434\n",
      "[38]\ttraining's ndcg@200: 0.861962\tvalid_1's ndcg@200: 0.844434\n",
      "[39]\ttraining's ndcg@200: 0.862149\tvalid_1's ndcg@200: 0.844335\n",
      "[40]\ttraining's ndcg@200: 0.862261\tvalid_1's ndcg@200: 0.844258\n",
      "[41]\ttraining's ndcg@200: 0.862448\tvalid_1's ndcg@200: 0.844288\n",
      "[42]\ttraining's ndcg@200: 0.862558\tvalid_1's ndcg@200: 0.844411\n",
      "[43]\ttraining's ndcg@200: 0.862635\tvalid_1's ndcg@200: 0.844287\n",
      "[44]\ttraining's ndcg@200: 0.862736\tvalid_1's ndcg@200: 0.84445\n",
      "[45]\ttraining's ndcg@200: 0.862765\tvalid_1's ndcg@200: 0.844382\n",
      "[46]\ttraining's ndcg@200: 0.862903\tvalid_1's ndcg@200: 0.844553\n",
      "[47]\ttraining's ndcg@200: 0.862867\tvalid_1's ndcg@200: 0.844429\n",
      "[48]\ttraining's ndcg@200: 0.862993\tvalid_1's ndcg@200: 0.844615\n",
      "[49]\ttraining's ndcg@200: 0.863003\tvalid_1's ndcg@200: 0.844545\n",
      "[50]\ttraining's ndcg@200: 0.863107\tvalid_1's ndcg@200: 0.844548\n",
      "[51]\ttraining's ndcg@200: 0.863092\tvalid_1's ndcg@200: 0.844448\n",
      "[52]\ttraining's ndcg@200: 0.863262\tvalid_1's ndcg@200: 0.844827\n",
      "[53]\ttraining's ndcg@200: 0.863241\tvalid_1's ndcg@200: 0.84461\n",
      "[54]\ttraining's ndcg@200: 0.863378\tvalid_1's ndcg@200: 0.844546\n",
      "[55]\ttraining's ndcg@200: 0.863422\tvalid_1's ndcg@200: 0.844688\n",
      "[56]\ttraining's ndcg@200: 0.863521\tvalid_1's ndcg@200: 0.844583\n",
      "[57]\ttraining's ndcg@200: 0.863578\tvalid_1's ndcg@200: 0.844326\n",
      "[58]\ttraining's ndcg@200: 0.863574\tvalid_1's ndcg@200: 0.84445\n",
      "[59]\ttraining's ndcg@200: 0.863677\tvalid_1's ndcg@200: 0.84451\n",
      "[60]\ttraining's ndcg@200: 0.863746\tvalid_1's ndcg@200: 0.844431\n",
      "[61]\ttraining's ndcg@200: 0.863839\tvalid_1's ndcg@200: 0.844425\n",
      "[62]\ttraining's ndcg@200: 0.86383\tvalid_1's ndcg@200: 0.844381\n",
      "[63]\ttraining's ndcg@200: 0.863941\tvalid_1's ndcg@200: 0.844144\n",
      "[64]\ttraining's ndcg@200: 0.864076\tvalid_1's ndcg@200: 0.844256\n",
      "[65]\ttraining's ndcg@200: 0.864123\tvalid_1's ndcg@200: 0.844281\n",
      "[66]\ttraining's ndcg@200: 0.864172\tvalid_1's ndcg@200: 0.844305\n",
      "[67]\ttraining's ndcg@200: 0.864191\tvalid_1's ndcg@200: 0.844369\n",
      "[68]\ttraining's ndcg@200: 0.864299\tvalid_1's ndcg@200: 0.844403\n",
      "[69]\ttraining's ndcg@200: 0.86434\tvalid_1's ndcg@200: 0.84434\n",
      "[70]\ttraining's ndcg@200: 0.864488\tvalid_1's ndcg@200: 0.844397\n",
      "[71]\ttraining's ndcg@200: 0.864548\tvalid_1's ndcg@200: 0.844398\n",
      "[72]\ttraining's ndcg@200: 0.864547\tvalid_1's ndcg@200: 0.844488\n",
      "[73]\ttraining's ndcg@200: 0.864693\tvalid_1's ndcg@200: 0.844619\n",
      "[74]\ttraining's ndcg@200: 0.864617\tvalid_1's ndcg@200: 0.84474\n",
      "[75]\ttraining's ndcg@200: 0.864705\tvalid_1's ndcg@200: 0.844468\n",
      "[76]\ttraining's ndcg@200: 0.864789\tvalid_1's ndcg@200: 0.844511\n",
      "[77]\ttraining's ndcg@200: 0.864769\tvalid_1's ndcg@200: 0.844647\n",
      "[78]\ttraining's ndcg@200: 0.864896\tvalid_1's ndcg@200: 0.844461\n",
      "[79]\ttraining's ndcg@200: 0.864952\tvalid_1's ndcg@200: 0.844425\n",
      "[80]\ttraining's ndcg@200: 0.864963\tvalid_1's ndcg@200: 0.84427\n",
      "[81]\ttraining's ndcg@200: 0.865032\tvalid_1's ndcg@200: 0.844348\n",
      "[82]\ttraining's ndcg@200: 0.865107\tvalid_1's ndcg@200: 0.844477\n",
      "[83]\ttraining's ndcg@200: 0.865146\tvalid_1's ndcg@200: 0.844428\n",
      "[84]\ttraining's ndcg@200: 0.865232\tvalid_1's ndcg@200: 0.844318\n",
      "[85]\ttraining's ndcg@200: 0.865269\tvalid_1's ndcg@200: 0.844366\n",
      "[86]\ttraining's ndcg@200: 0.865298\tvalid_1's ndcg@200: 0.844415\n",
      "[87]\ttraining's ndcg@200: 0.865282\tvalid_1's ndcg@200: 0.84445\n",
      "[88]\ttraining's ndcg@200: 0.865307\tvalid_1's ndcg@200: 0.844572\n",
      "[89]\ttraining's ndcg@200: 0.86547\tvalid_1's ndcg@200: 0.844527\n",
      "[90]\ttraining's ndcg@200: 0.865559\tvalid_1's ndcg@200: 0.844647\n",
      "[91]\ttraining's ndcg@200: 0.865593\tvalid_1's ndcg@200: 0.844783\n",
      "[92]\ttraining's ndcg@200: 0.865649\tvalid_1's ndcg@200: 0.844874\n",
      "[93]\ttraining's ndcg@200: 0.865736\tvalid_1's ndcg@200: 0.844687\n",
      "[94]\ttraining's ndcg@200: 0.86579\tvalid_1's ndcg@200: 0.844788\n",
      "[95]\ttraining's ndcg@200: 0.86582\tvalid_1's ndcg@200: 0.844803\n",
      "[96]\ttraining's ndcg@200: 0.865984\tvalid_1's ndcg@200: 0.844673\n",
      "[97]\ttraining's ndcg@200: 0.866043\tvalid_1's ndcg@200: 0.84469\n",
      "[98]\ttraining's ndcg@200: 0.866084\tvalid_1's ndcg@200: 0.844647\n",
      "[99]\ttraining's ndcg@200: 0.86617\tvalid_1's ndcg@200: 0.844564\n",
      "[100]\ttraining's ndcg@200: 0.866232\tvalid_1's ndcg@200: 0.844539\n",
      "[101]\ttraining's ndcg@200: 0.866215\tvalid_1's ndcg@200: 0.844501\n",
      "[102]\ttraining's ndcg@200: 0.866189\tvalid_1's ndcg@200: 0.844606\n",
      "[103]\ttraining's ndcg@200: 0.866226\tvalid_1's ndcg@200: 0.844647\n",
      "[104]\ttraining's ndcg@200: 0.866281\tvalid_1's ndcg@200: 0.8446\n",
      "[105]\ttraining's ndcg@200: 0.866388\tvalid_1's ndcg@200: 0.844592\n",
      "[106]\ttraining's ndcg@200: 0.866477\tvalid_1's ndcg@200: 0.844731\n",
      "[107]\ttraining's ndcg@200: 0.866601\tvalid_1's ndcg@200: 0.844661\n",
      "[108]\ttraining's ndcg@200: 0.866697\tvalid_1's ndcg@200: 0.844704\n",
      "[109]\ttraining's ndcg@200: 0.866691\tvalid_1's ndcg@200: 0.844786\n",
      "[110]\ttraining's ndcg@200: 0.866746\tvalid_1's ndcg@200: 0.844605\n",
      "[111]\ttraining's ndcg@200: 0.866902\tvalid_1's ndcg@200: 0.844694\n",
      "[112]\ttraining's ndcg@200: 0.86704\tvalid_1's ndcg@200: 0.84481\n",
      "[113]\ttraining's ndcg@200: 0.86702\tvalid_1's ndcg@200: 0.844851\n",
      "[114]\ttraining's ndcg@200: 0.867031\tvalid_1's ndcg@200: 0.844825\n",
      "[115]\ttraining's ndcg@200: 0.86707\tvalid_1's ndcg@200: 0.844797\n",
      "[116]\ttraining's ndcg@200: 0.867076\tvalid_1's ndcg@200: 0.84485\n",
      "[117]\ttraining's ndcg@200: 0.867155\tvalid_1's ndcg@200: 0.844821\n",
      "[118]\ttraining's ndcg@200: 0.867222\tvalid_1's ndcg@200: 0.844789\n",
      "[119]\ttraining's ndcg@200: 0.867252\tvalid_1's ndcg@200: 0.844805\n",
      "[120]\ttraining's ndcg@200: 0.867317\tvalid_1's ndcg@200: 0.844774\n",
      "[121]\ttraining's ndcg@200: 0.867332\tvalid_1's ndcg@200: 0.844832\n",
      "[122]\ttraining's ndcg@200: 0.867383\tvalid_1's ndcg@200: 0.844778\n",
      "[123]\ttraining's ndcg@200: 0.867498\tvalid_1's ndcg@200: 0.844825\n"
     ]
    },
    {
     "name": "stdout",
     "output_type": "stream",
     "text": [
      "[124]\ttraining's ndcg@200: 0.867534\tvalid_1's ndcg@200: 0.844826\n",
      "[125]\ttraining's ndcg@200: 0.86759\tvalid_1's ndcg@200: 0.844877\n",
      "[126]\ttraining's ndcg@200: 0.867592\tvalid_1's ndcg@200: 0.844844\n",
      "[127]\ttraining's ndcg@200: 0.867685\tvalid_1's ndcg@200: 0.84489\n",
      "[128]\ttraining's ndcg@200: 0.867739\tvalid_1's ndcg@200: 0.844981\n",
      "[129]\ttraining's ndcg@200: 0.867765\tvalid_1's ndcg@200: 0.84499\n",
      "[130]\ttraining's ndcg@200: 0.867817\tvalid_1's ndcg@200: 0.844851\n",
      "[131]\ttraining's ndcg@200: 0.867903\tvalid_1's ndcg@200: 0.844935\n",
      "[132]\ttraining's ndcg@200: 0.867973\tvalid_1's ndcg@200: 0.844915\n",
      "[133]\ttraining's ndcg@200: 0.868064\tvalid_1's ndcg@200: 0.845033\n",
      "[134]\ttraining's ndcg@200: 0.868123\tvalid_1's ndcg@200: 0.844994\n",
      "[135]\ttraining's ndcg@200: 0.868106\tvalid_1's ndcg@200: 0.844935\n",
      "[136]\ttraining's ndcg@200: 0.868161\tvalid_1's ndcg@200: 0.845037\n",
      "[137]\ttraining's ndcg@200: 0.868128\tvalid_1's ndcg@200: 0.844928\n",
      "[138]\ttraining's ndcg@200: 0.868186\tvalid_1's ndcg@200: 0.844921\n",
      "[139]\ttraining's ndcg@200: 0.868219\tvalid_1's ndcg@200: 0.844959\n",
      "[140]\ttraining's ndcg@200: 0.868272\tvalid_1's ndcg@200: 0.844971\n",
      "[141]\ttraining's ndcg@200: 0.868314\tvalid_1's ndcg@200: 0.844964\n",
      "[142]\ttraining's ndcg@200: 0.868357\tvalid_1's ndcg@200: 0.844968\n",
      "[143]\ttraining's ndcg@200: 0.868337\tvalid_1's ndcg@200: 0.844905\n",
      "[144]\ttraining's ndcg@200: 0.868373\tvalid_1's ndcg@200: 0.844974\n",
      "[145]\ttraining's ndcg@200: 0.868401\tvalid_1's ndcg@200: 0.84486\n",
      "[146]\ttraining's ndcg@200: 0.868452\tvalid_1's ndcg@200: 0.844791\n",
      "[147]\ttraining's ndcg@200: 0.868462\tvalid_1's ndcg@200: 0.844831\n",
      "[148]\ttraining's ndcg@200: 0.868541\tvalid_1's ndcg@200: 0.844728\n",
      "[149]\ttraining's ndcg@200: 0.868595\tvalid_1's ndcg@200: 0.844694\n",
      "[150]\ttraining's ndcg@200: 0.868611\tvalid_1's ndcg@200: 0.844583\n",
      "[151]\ttraining's ndcg@200: 0.868651\tvalid_1's ndcg@200: 0.844664\n",
      "[152]\ttraining's ndcg@200: 0.868694\tvalid_1's ndcg@200: 0.844687\n",
      "[153]\ttraining's ndcg@200: 0.868713\tvalid_1's ndcg@200: 0.844577\n",
      "[154]\ttraining's ndcg@200: 0.868726\tvalid_1's ndcg@200: 0.844498\n",
      "[155]\ttraining's ndcg@200: 0.868819\tvalid_1's ndcg@200: 0.844476\n",
      "[156]\ttraining's ndcg@200: 0.868892\tvalid_1's ndcg@200: 0.84453\n",
      "[157]\ttraining's ndcg@200: 0.868939\tvalid_1's ndcg@200: 0.844507\n",
      "[158]\ttraining's ndcg@200: 0.868982\tvalid_1's ndcg@200: 0.844448\n",
      "[159]\ttraining's ndcg@200: 0.869054\tvalid_1's ndcg@200: 0.844546\n",
      "[160]\ttraining's ndcg@200: 0.86907\tvalid_1's ndcg@200: 0.844615\n",
      "[161]\ttraining's ndcg@200: 0.869062\tvalid_1's ndcg@200: 0.84474\n",
      "[162]\ttraining's ndcg@200: 0.869106\tvalid_1's ndcg@200: 0.844787\n",
      "[163]\ttraining's ndcg@200: 0.869136\tvalid_1's ndcg@200: 0.844765\n",
      "[164]\ttraining's ndcg@200: 0.869234\tvalid_1's ndcg@200: 0.844764\n",
      "[165]\ttraining's ndcg@200: 0.869254\tvalid_1's ndcg@200: 0.844696\n",
      "[166]\ttraining's ndcg@200: 0.869259\tvalid_1's ndcg@200: 0.844635\n",
      "[167]\ttraining's ndcg@200: 0.869317\tvalid_1's ndcg@200: 0.84475\n",
      "[168]\ttraining's ndcg@200: 0.869306\tvalid_1's ndcg@200: 0.844767\n",
      "[169]\ttraining's ndcg@200: 0.869334\tvalid_1's ndcg@200: 0.844863\n",
      "[170]\ttraining's ndcg@200: 0.86935\tvalid_1's ndcg@200: 0.844794\n",
      "[171]\ttraining's ndcg@200: 0.869377\tvalid_1's ndcg@200: 0.844832\n",
      "[172]\ttraining's ndcg@200: 0.869408\tvalid_1's ndcg@200: 0.844941\n",
      "[173]\ttraining's ndcg@200: 0.869487\tvalid_1's ndcg@200: 0.844851\n",
      "[174]\ttraining's ndcg@200: 0.869501\tvalid_1's ndcg@200: 0.844735\n",
      "[175]\ttraining's ndcg@200: 0.869545\tvalid_1's ndcg@200: 0.844611\n",
      "[176]\ttraining's ndcg@200: 0.869619\tvalid_1's ndcg@200: 0.844654\n",
      "[177]\ttraining's ndcg@200: 0.869694\tvalid_1's ndcg@200: 0.844661\n",
      "[178]\ttraining's ndcg@200: 0.869744\tvalid_1's ndcg@200: 0.844727\n",
      "[179]\ttraining's ndcg@200: 0.869808\tvalid_1's ndcg@200: 0.844688\n",
      "[180]\ttraining's ndcg@200: 0.869816\tvalid_1's ndcg@200: 0.844669\n",
      "[181]\ttraining's ndcg@200: 0.869855\tvalid_1's ndcg@200: 0.84471\n",
      "[182]\ttraining's ndcg@200: 0.869935\tvalid_1's ndcg@200: 0.844748\n",
      "[183]\ttraining's ndcg@200: 0.869997\tvalid_1's ndcg@200: 0.844708\n",
      "[184]\ttraining's ndcg@200: 0.870035\tvalid_1's ndcg@200: 0.844756\n",
      "[185]\ttraining's ndcg@200: 0.870056\tvalid_1's ndcg@200: 0.84478\n",
      "[186]\ttraining's ndcg@200: 0.870071\tvalid_1's ndcg@200: 0.844831\n",
      "[187]\ttraining's ndcg@200: 0.870109\tvalid_1's ndcg@200: 0.844816\n",
      "[188]\ttraining's ndcg@200: 0.870085\tvalid_1's ndcg@200: 0.844816\n",
      "[189]\ttraining's ndcg@200: 0.870143\tvalid_1's ndcg@200: 0.844811\n",
      "[190]\ttraining's ndcg@200: 0.870145\tvalid_1's ndcg@200: 0.844858\n",
      "[191]\ttraining's ndcg@200: 0.870215\tvalid_1's ndcg@200: 0.844839\n",
      "[192]\ttraining's ndcg@200: 0.870271\tvalid_1's ndcg@200: 0.844822\n",
      "[193]\ttraining's ndcg@200: 0.870314\tvalid_1's ndcg@200: 0.844854\n",
      "[194]\ttraining's ndcg@200: 0.870364\tvalid_1's ndcg@200: 0.844874\n",
      "[195]\ttraining's ndcg@200: 0.870408\tvalid_1's ndcg@200: 0.844847\n",
      "[196]\ttraining's ndcg@200: 0.870489\tvalid_1's ndcg@200: 0.844812\n",
      "[197]\ttraining's ndcg@200: 0.870527\tvalid_1's ndcg@200: 0.844873\n",
      "[198]\ttraining's ndcg@200: 0.870576\tvalid_1's ndcg@200: 0.844909\n",
      "[199]\ttraining's ndcg@200: 0.870591\tvalid_1's ndcg@200: 0.844889\n",
      "[200]\ttraining's ndcg@200: 0.87062\tvalid_1's ndcg@200: 0.844877\n",
      "[201]\ttraining's ndcg@200: 0.870655\tvalid_1's ndcg@200: 0.844952\n",
      "[202]\ttraining's ndcg@200: 0.870695\tvalid_1's ndcg@200: 0.844882\n",
      "[203]\ttraining's ndcg@200: 0.870743\tvalid_1's ndcg@200: 0.844903\n",
      "[204]\ttraining's ndcg@200: 0.870747\tvalid_1's ndcg@200: 0.844854\n",
      "[205]\ttraining's ndcg@200: 0.870749\tvalid_1's ndcg@200: 0.844892\n",
      "[206]\ttraining's ndcg@200: 0.87077\tvalid_1's ndcg@200: 0.844922\n",
      "[207]\ttraining's ndcg@200: 0.870831\tvalid_1's ndcg@200: 0.844943\n",
      "[208]\ttraining's ndcg@200: 0.870847\tvalid_1's ndcg@200: 0.844906\n",
      "[209]\ttraining's ndcg@200: 0.870911\tvalid_1's ndcg@200: 0.844902\n",
      "[210]\ttraining's ndcg@200: 0.870942\tvalid_1's ndcg@200: 0.844937\n",
      "[211]\ttraining's ndcg@200: 0.870986\tvalid_1's ndcg@200: 0.844986\n",
      "[212]\ttraining's ndcg@200: 0.871061\tvalid_1's ndcg@200: 0.845021\n",
      "[213]\ttraining's ndcg@200: 0.871123\tvalid_1's ndcg@200: 0.845033\n",
      "[214]\ttraining's ndcg@200: 0.871161\tvalid_1's ndcg@200: 0.845002\n",
      "[215]\ttraining's ndcg@200: 0.871188\tvalid_1's ndcg@200: 0.844963\n",
      "[216]\ttraining's ndcg@200: 0.871243\tvalid_1's ndcg@200: 0.844928\n",
      "[217]\ttraining's ndcg@200: 0.871287\tvalid_1's ndcg@200: 0.845084\n",
      "[218]\ttraining's ndcg@200: 0.871282\tvalid_1's ndcg@200: 0.845104\n",
      "[219]\ttraining's ndcg@200: 0.871353\tvalid_1's ndcg@200: 0.845076\n",
      "[220]\ttraining's ndcg@200: 0.871455\tvalid_1's ndcg@200: 0.845134\n",
      "[221]\ttraining's ndcg@200: 0.871473\tvalid_1's ndcg@200: 0.84512\n",
      "[222]\ttraining's ndcg@200: 0.871499\tvalid_1's ndcg@200: 0.845095\n",
      "[223]\ttraining's ndcg@200: 0.871605\tvalid_1's ndcg@200: 0.845056\n",
      "[224]\ttraining's ndcg@200: 0.871628\tvalid_1's ndcg@200: 0.845033\n",
      "[225]\ttraining's ndcg@200: 0.871673\tvalid_1's ndcg@200: 0.844966\n",
      "[226]\ttraining's ndcg@200: 0.871706\tvalid_1's ndcg@200: 0.844967\n",
      "[227]\ttraining's ndcg@200: 0.871748\tvalid_1's ndcg@200: 0.845057\n",
      "[228]\ttraining's ndcg@200: 0.871791\tvalid_1's ndcg@200: 0.844972\n",
      "[229]\ttraining's ndcg@200: 0.871831\tvalid_1's ndcg@200: 0.844941\n",
      "[230]\ttraining's ndcg@200: 0.871867\tvalid_1's ndcg@200: 0.845072\n",
      "[231]\ttraining's ndcg@200: 0.871927\tvalid_1's ndcg@200: 0.845124\n",
      "[232]\ttraining's ndcg@200: 0.871971\tvalid_1's ndcg@200: 0.845067\n",
      "[233]\ttraining's ndcg@200: 0.872004\tvalid_1's ndcg@200: 0.845061\n",
      "[234]\ttraining's ndcg@200: 0.872012\tvalid_1's ndcg@200: 0.84503\n",
      "[235]\ttraining's ndcg@200: 0.872041\tvalid_1's ndcg@200: 0.844987\n",
      "[236]\ttraining's ndcg@200: 0.872063\tvalid_1's ndcg@200: 0.844992\n",
      "[237]\ttraining's ndcg@200: 0.872098\tvalid_1's ndcg@200: 0.845029\n",
      "[238]\ttraining's ndcg@200: 0.872119\tvalid_1's ndcg@200: 0.844967\n",
      "[239]\ttraining's ndcg@200: 0.872179\tvalid_1's ndcg@200: 0.845071\n",
      "[240]\ttraining's ndcg@200: 0.872241\tvalid_1's ndcg@200: 0.845044\n",
      "[241]\ttraining's ndcg@200: 0.872295\tvalid_1's ndcg@200: 0.84506\n",
      "[242]\ttraining's ndcg@200: 0.872286\tvalid_1's ndcg@200: 0.845112\n",
      "[243]\ttraining's ndcg@200: 0.872324\tvalid_1's ndcg@200: 0.845012\n",
      "[244]\ttraining's ndcg@200: 0.872362\tvalid_1's ndcg@200: 0.845011\n",
      "[245]\ttraining's ndcg@200: 0.87238\tvalid_1's ndcg@200: 0.844949\n",
      "[246]\ttraining's ndcg@200: 0.872408\tvalid_1's ndcg@200: 0.845037\n",
      "[247]\ttraining's ndcg@200: 0.872387\tvalid_1's ndcg@200: 0.845043\n",
      "[248]\ttraining's ndcg@200: 0.872433\tvalid_1's ndcg@200: 0.845136\n",
      "[249]\ttraining's ndcg@200: 0.872485\tvalid_1's ndcg@200: 0.845068\n",
      "[250]\ttraining's ndcg@200: 0.872502\tvalid_1's ndcg@200: 0.845048\n"
     ]
    },
    {
     "name": "stdout",
     "output_type": "stream",
     "text": [
      "[251]\ttraining's ndcg@200: 0.872521\tvalid_1's ndcg@200: 0.844981\n",
      "[252]\ttraining's ndcg@200: 0.872515\tvalid_1's ndcg@200: 0.844989\n",
      "[253]\ttraining's ndcg@200: 0.872582\tvalid_1's ndcg@200: 0.844931\n",
      "[254]\ttraining's ndcg@200: 0.872571\tvalid_1's ndcg@200: 0.844916\n",
      "[255]\ttraining's ndcg@200: 0.872621\tvalid_1's ndcg@200: 0.8449\n",
      "[256]\ttraining's ndcg@200: 0.872645\tvalid_1's ndcg@200: 0.844844\n",
      "[257]\ttraining's ndcg@200: 0.872697\tvalid_1's ndcg@200: 0.844876\n",
      "[258]\ttraining's ndcg@200: 0.872697\tvalid_1's ndcg@200: 0.844723\n",
      "[259]\ttraining's ndcg@200: 0.872723\tvalid_1's ndcg@200: 0.844768\n",
      "[260]\ttraining's ndcg@200: 0.872756\tvalid_1's ndcg@200: 0.844777\n",
      "[261]\ttraining's ndcg@200: 0.87279\tvalid_1's ndcg@200: 0.844743\n",
      "[262]\ttraining's ndcg@200: 0.872821\tvalid_1's ndcg@200: 0.844694\n",
      "[263]\ttraining's ndcg@200: 0.872857\tvalid_1's ndcg@200: 0.844848\n",
      "[264]\ttraining's ndcg@200: 0.872907\tvalid_1's ndcg@200: 0.844842\n",
      "[265]\ttraining's ndcg@200: 0.872946\tvalid_1's ndcg@200: 0.844804\n",
      "[266]\ttraining's ndcg@200: 0.872976\tvalid_1's ndcg@200: 0.844788\n",
      "[267]\ttraining's ndcg@200: 0.872959\tvalid_1's ndcg@200: 0.844784\n",
      "[268]\ttraining's ndcg@200: 0.872999\tvalid_1's ndcg@200: 0.844571\n",
      "[269]\ttraining's ndcg@200: 0.87304\tvalid_1's ndcg@200: 0.844558\n",
      "[270]\ttraining's ndcg@200: 0.873063\tvalid_1's ndcg@200: 0.844555\n",
      "[271]\ttraining's ndcg@200: 0.873099\tvalid_1's ndcg@200: 0.844573\n",
      "[272]\ttraining's ndcg@200: 0.873158\tvalid_1's ndcg@200: 0.844572\n",
      "[273]\ttraining's ndcg@200: 0.873201\tvalid_1's ndcg@200: 0.844585\n",
      "[274]\ttraining's ndcg@200: 0.873199\tvalid_1's ndcg@200: 0.844625\n",
      "[275]\ttraining's ndcg@200: 0.873213\tvalid_1's ndcg@200: 0.844594\n",
      "[276]\ttraining's ndcg@200: 0.873222\tvalid_1's ndcg@200: 0.844538\n",
      "[277]\ttraining's ndcg@200: 0.87324\tvalid_1's ndcg@200: 0.844549\n",
      "[278]\ttraining's ndcg@200: 0.873271\tvalid_1's ndcg@200: 0.84445\n",
      "[279]\ttraining's ndcg@200: 0.873356\tvalid_1's ndcg@200: 0.844463\n",
      "[280]\ttraining's ndcg@200: 0.873363\tvalid_1's ndcg@200: 0.844487\n",
      "[281]\ttraining's ndcg@200: 0.873391\tvalid_1's ndcg@200: 0.844492\n",
      "[282]\ttraining's ndcg@200: 0.873494\tvalid_1's ndcg@200: 0.844476\n",
      "[283]\ttraining's ndcg@200: 0.873519\tvalid_1's ndcg@200: 0.844432\n",
      "[284]\ttraining's ndcg@200: 0.873529\tvalid_1's ndcg@200: 0.844416\n",
      "[285]\ttraining's ndcg@200: 0.873572\tvalid_1's ndcg@200: 0.844472\n",
      "[286]\ttraining's ndcg@200: 0.873609\tvalid_1's ndcg@200: 0.844594\n",
      "[287]\ttraining's ndcg@200: 0.873588\tvalid_1's ndcg@200: 0.844661\n",
      "[288]\ttraining's ndcg@200: 0.873651\tvalid_1's ndcg@200: 0.844594\n",
      "[289]\ttraining's ndcg@200: 0.873695\tvalid_1's ndcg@200: 0.844551\n",
      "[290]\ttraining's ndcg@200: 0.873714\tvalid_1's ndcg@200: 0.844565\n",
      "[291]\ttraining's ndcg@200: 0.873765\tvalid_1's ndcg@200: 0.844603\n",
      "[292]\ttraining's ndcg@200: 0.873774\tvalid_1's ndcg@200: 0.844605\n",
      "[293]\ttraining's ndcg@200: 0.873819\tvalid_1's ndcg@200: 0.84465\n",
      "[294]\ttraining's ndcg@200: 0.873851\tvalid_1's ndcg@200: 0.84463\n",
      "[295]\ttraining's ndcg@200: 0.87389\tvalid_1's ndcg@200: 0.844595\n",
      "[296]\ttraining's ndcg@200: 0.873912\tvalid_1's ndcg@200: 0.844599\n",
      "[297]\ttraining's ndcg@200: 0.873954\tvalid_1's ndcg@200: 0.844598\n",
      "[298]\ttraining's ndcg@200: 0.873976\tvalid_1's ndcg@200: 0.844585\n",
      "[299]\ttraining's ndcg@200: 0.874003\tvalid_1's ndcg@200: 0.844574\n",
      "[300]\ttraining's ndcg@200: 0.874054\tvalid_1's ndcg@200: 0.844599\n",
      "[301]\ttraining's ndcg@200: 0.874106\tvalid_1's ndcg@200: 0.844592\n",
      "[302]\ttraining's ndcg@200: 0.874114\tvalid_1's ndcg@200: 0.844615\n",
      "[303]\ttraining's ndcg@200: 0.874121\tvalid_1's ndcg@200: 0.844629\n",
      "[304]\ttraining's ndcg@200: 0.874148\tvalid_1's ndcg@200: 0.844526\n",
      "[305]\ttraining's ndcg@200: 0.8742\tvalid_1's ndcg@200: 0.844567\n",
      "[306]\ttraining's ndcg@200: 0.874258\tvalid_1's ndcg@200: 0.844573\n",
      "[307]\ttraining's ndcg@200: 0.874271\tvalid_1's ndcg@200: 0.844557\n",
      "[308]\ttraining's ndcg@200: 0.87428\tvalid_1's ndcg@200: 0.844555\n",
      "[309]\ttraining's ndcg@200: 0.874287\tvalid_1's ndcg@200: 0.844552\n",
      "[310]\ttraining's ndcg@200: 0.874315\tvalid_1's ndcg@200: 0.844508\n",
      "[311]\ttraining's ndcg@200: 0.874324\tvalid_1's ndcg@200: 0.844565\n",
      "[312]\ttraining's ndcg@200: 0.874364\tvalid_1's ndcg@200: 0.844504\n",
      "[313]\ttraining's ndcg@200: 0.874385\tvalid_1's ndcg@200: 0.844608\n",
      "[314]\ttraining's ndcg@200: 0.874407\tvalid_1's ndcg@200: 0.844631\n",
      "[315]\ttraining's ndcg@200: 0.87445\tvalid_1's ndcg@200: 0.844597\n",
      "[316]\ttraining's ndcg@200: 0.874498\tvalid_1's ndcg@200: 0.844635\n",
      "[317]\ttraining's ndcg@200: 0.874518\tvalid_1's ndcg@200: 0.844662\n",
      "[318]\ttraining's ndcg@200: 0.874539\tvalid_1's ndcg@200: 0.84465\n",
      "[319]\ttraining's ndcg@200: 0.874589\tvalid_1's ndcg@200: 0.844603\n",
      "[320]\ttraining's ndcg@200: 0.87464\tvalid_1's ndcg@200: 0.844611\n",
      "[321]\ttraining's ndcg@200: 0.87465\tvalid_1's ndcg@200: 0.844608\n",
      "[322]\ttraining's ndcg@200: 0.874651\tvalid_1's ndcg@200: 0.844734\n",
      "[323]\ttraining's ndcg@200: 0.874704\tvalid_1's ndcg@200: 0.844745\n",
      "[324]\ttraining's ndcg@200: 0.874708\tvalid_1's ndcg@200: 0.844719\n",
      "[325]\ttraining's ndcg@200: 0.874753\tvalid_1's ndcg@200: 0.844663\n",
      "[326]\ttraining's ndcg@200: 0.874759\tvalid_1's ndcg@200: 0.844679\n",
      "[327]\ttraining's ndcg@200: 0.874788\tvalid_1's ndcg@200: 0.844644\n",
      "[328]\ttraining's ndcg@200: 0.874785\tvalid_1's ndcg@200: 0.844635\n",
      "[329]\ttraining's ndcg@200: 0.874797\tvalid_1's ndcg@200: 0.844632\n",
      "[330]\ttraining's ndcg@200: 0.87481\tvalid_1's ndcg@200: 0.84468\n",
      "[331]\ttraining's ndcg@200: 0.874853\tvalid_1's ndcg@200: 0.844697\n",
      "[332]\ttraining's ndcg@200: 0.874884\tvalid_1's ndcg@200: 0.844601\n",
      "[333]\ttraining's ndcg@200: 0.874911\tvalid_1's ndcg@200: 0.844621\n",
      "[334]\ttraining's ndcg@200: 0.874919\tvalid_1's ndcg@200: 0.844659\n",
      "[335]\ttraining's ndcg@200: 0.874953\tvalid_1's ndcg@200: 0.84475\n",
      "[336]\ttraining's ndcg@200: 0.874975\tvalid_1's ndcg@200: 0.844783\n",
      "[337]\ttraining's ndcg@200: 0.874982\tvalid_1's ndcg@200: 0.844789\n",
      "[338]\ttraining's ndcg@200: 0.875006\tvalid_1's ndcg@200: 0.844816\n",
      "[339]\ttraining's ndcg@200: 0.875027\tvalid_1's ndcg@200: 0.84482\n",
      "[340]\ttraining's ndcg@200: 0.875089\tvalid_1's ndcg@200: 0.844897\n",
      "[341]\ttraining's ndcg@200: 0.875095\tvalid_1's ndcg@200: 0.844895\n",
      "[342]\ttraining's ndcg@200: 0.875105\tvalid_1's ndcg@200: 0.844953\n",
      "[343]\ttraining's ndcg@200: 0.875114\tvalid_1's ndcg@200: 0.844896\n",
      "[344]\ttraining's ndcg@200: 0.875121\tvalid_1's ndcg@200: 0.84486\n",
      "[345]\ttraining's ndcg@200: 0.875118\tvalid_1's ndcg@200: 0.844806\n",
      "[346]\ttraining's ndcg@200: 0.87514\tvalid_1's ndcg@200: 0.844758\n",
      "[347]\ttraining's ndcg@200: 0.875153\tvalid_1's ndcg@200: 0.844777\n",
      "[348]\ttraining's ndcg@200: 0.875145\tvalid_1's ndcg@200: 0.844794\n",
      "Early stopping, best iteration is:\n",
      "[248]\ttraining's ndcg@200: 0.872433\tvalid_1's ndcg@200: 0.845136\n"
     ]
    }
   ],
   "source": [
    "model = lightgbm.train(params, train_ds , num_boost_round=2000, valid_sets=[train_ds, dev_ds])"
   ]
  },
  {
   "cell_type": "markdown",
   "id": "b90a40cf",
   "metadata": {},
   "source": [
    "Plot feature importance "
   ]
  },
  {
   "cell_type": "code",
   "execution_count": 19,
   "id": "0449c0a2",
   "metadata": {},
   "outputs": [
    {
     "data": {
      "text/plain": [
       "<AxesSubplot: title={'center': 'Feature importance'}, xlabel='Feature importance', ylabel='Features'>"
      ]
     },
     "execution_count": 19,
     "metadata": {},
     "output_type": "execute_result"
    },
    {
     "data": {
      "image/png": "[encoded data removed]",
      "text/plain": [
       "<Figure size 640x480 with 1 Axes>"
      ]
     },
     "metadata": {},
     "output_type": "display_data"
    }
   ],
   "source": [
    "lightgbm.plot_importance(model, max_num_features=10, importance_type=\"split\")"
   ]
  },
  {
   "cell_type": "markdown",
   "id": "071a0a1d",
   "metadata": {},
   "source": [
    "## Export model for serving in Vespa \n",
    "\n",
    "See [importing-lightgbm-models](https://docs.vespa.ai/en/lightgbm#importing-lightgbm-models) for how to import the exported JSON file into Vespa for serving. Since we used a DataFrame with column names as input, the column names are used as feature names. "
   ]
  },
  {
   "cell_type": "code",
   "execution_count": 20,
   "id": "00bab1a7",
   "metadata": {},
   "outputs": [],
   "source": [
    "model_dump = model.dump_model()"
   ]
  },
  {
   "cell_type": "code",
   "execution_count": 21,
   "id": "04e741c8",
   "metadata": {},
   "outputs": [],
   "source": [
    "import json\n",
    "with open('product_ranker_simple_lightgbm.json','w') as fp:\n",
    "    fp.write(json.dumps(model_dump))"
   ]
  },
  {
   "cell_type": "markdown",
   "id": "63379979",
   "metadata": {},
   "source": [
    "Place the exported `product_ranker_simple.json` file in the `models` directory in the Vespa application package and configure the rank-profile:\n",
    "\n",
    "<pre>\n",
    "rank-profile gbdt-small {\n",
    "  first-phase {\n",
    "    expression: lightgbm(\"product_ranker_simple_lightgbm.json\")\n",
    "  }\n",
    "}\n",
    "</pre>"
   ]
  }
 ],
 "metadata": {
  "kernelspec": {
   "display_name": "Python 3 (ipykernel)",
   "language": "python",
   "name": "python3"
  },
  "language_info": {
   "codemirror_mode": {
    "name": "ipython",
    "version": 3
   },
   "file_extension": ".py",
   "mimetype": "text/x-python",
   "name": "python",
   "nbconvert_exporter": "python",
   "pygments_lexer": "ipython3",
   "version": "3.10.8"
  }
 },
 "nbformat": 4,
 "nbformat_minor": 5
}
