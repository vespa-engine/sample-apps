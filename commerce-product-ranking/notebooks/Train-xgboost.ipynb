{
  "cells": [
    {
      "cell_type": "markdown",
      "id": "28cb53b1",
      "metadata": {
        "id": "28cb53b1"
      },
      "source": [
        "# Learning to Rank using XGBoost\n",
        "\n",
        "This notebook demonstrates how to train a ranking model using [XGBoost](https://xgboost.readthedocs.io/).  \n",
        "\n",
        "This notebook is part of the [commerce product ranking sample app](https://github.com/vespa-engine/sample-apps/tree/master/commerce-product-ranking).\n",
        "\n",
        "Blog post series:\n",
        "\n",
        "* [Improving Product Search with Learning to Rank - part one](https://blog.vespa.ai/improving-product-search-with-ltr/)\n",
        "* [Improving Product Search with Learning to Rank - part two](https://blog.vespa.ai/improving-product-search-with-ltr-part-two/)\n",
        "* [Improving Product Search with Learning to Rank - part three](https://blog.vespa.ai/improving-product-search-with-ltr-part-three/)\n",
        "\n",
        "This work uses the largest product relevance dataset released by Amazon:\n",
        "\n",
        ">We introduce the “Shopping Queries Data Set”, a large dataset of difficult search queries, released with the aim of fostering research in the area of semantic matching of queries and products. For each query, the dataset provides a list of up to 40 potentially relevant results, together with ESCI relevance judgements (Exact, Substitute, Complement, Irrelevant) indicating the relevance of the product to the query. Each query-product pair is accompanied by additional information. The dataset is multilingual, as it contains queries in English, Japanese, and Spanish.\n",
        "\n",
        "The dataset is found at [amazon-science/esci-data](https://github.com/amazon-science/esci-data).\n",
        "The dataset and is released under the [Apache 2.0 license](https://github.com/amazon-science/esci-data/blob/main/LICENSE).\n",
        "\n"
      ]
    },
    {
      "cell_type": "code",
      "execution_count": 1,
      "id": "d18a6151",
      "metadata": {
        "id": "d18a6151",
        "outputId": "94f82cbf-8c91-47e0-95c8-c41742e5f786",
        "colab": {
          "base_uri": "https://localhost:8080/"
        }
      },
      "outputs": [
        {
          "output_type": "stream",
          "name": "stdout",
          "text": [
            "Requirement already satisfied: pandas in /usr/local/lib/python3.10/dist-packages (2.2.2)\n",
            "Requirement already satisfied: xgboost in /usr/local/lib/python3.10/dist-packages (2.1.3)\n",
            "Requirement already satisfied: numpy in /usr/local/lib/python3.10/dist-packages (1.26.4)\n",
            "Requirement already satisfied: python-dateutil>=2.8.2 in /usr/local/lib/python3.10/dist-packages (from pandas) (2.8.2)\n",
            "Requirement already satisfied: pytz>=2020.1 in /usr/local/lib/python3.10/dist-packages (from pandas) (2024.2)\n",
            "Requirement already satisfied: tzdata>=2022.7 in /usr/local/lib/python3.10/dist-packages (from pandas) (2024.2)\n",
            "Requirement already satisfied: nvidia-nccl-cu12 in /usr/local/lib/python3.10/dist-packages (from xgboost) (2.23.4)\n",
            "Requirement already satisfied: scipy in /usr/local/lib/python3.10/dist-packages (from xgboost) (1.13.1)\n",
            "Requirement already satisfied: six>=1.5 in /usr/local/lib/python3.10/dist-packages (from python-dateutil>=2.8.2->pandas) (1.16.0)\n"
          ]
        }
      ],
      "source": [
        "!pip3 install pandas xgboost numpy"
      ]
    },
    {
      "cell_type": "code",
      "execution_count": 2,
      "id": "12d09526",
      "metadata": {
        "id": "12d09526"
      },
      "outputs": [],
      "source": [
        "import pandas\n",
        "import xgboost"
      ]
    },
    {
      "cell_type": "markdown",
      "id": "e9dd7c77",
      "metadata": {
        "id": "e9dd7c77"
      },
      "source": [
        "Read the published training data. This dataframe contains scraped features from a running Vespa instance, using a  scrape rank-profile, returning calculated features using [match-features](https://docs.vespa.ai/en/reference/schema-reference.html#match-features)."
      ]
    },
    {
      "cell_type": "code",
      "execution_count": 27,
      "id": "d6ff3429",
      "metadata": {
        "id": "d6ff3429"
      },
      "outputs": [],
      "source": [
        "train = pandas.read_parquet('https://data.vespa-cloud.com/sample-apps-data/product_ranking_train.parquet')"
      ]
    },
    {
      "cell_type": "markdown",
      "id": "190747b5",
      "metadata": {
        "id": "190747b5"
      },
      "source": [
        "## Dataset and split processing\n",
        "Convert the dataset's textual labels Exact, Substitute, Complement, Irrelevant to numeric labels. XGBoost does not\n",
        "support custom label gains, so we convert directly to the label gain."
      ]
    },
    {
      "cell_type": "code",
      "execution_count": 77,
      "id": "8a08fc7b",
      "metadata": {
        "id": "8a08fc7b"
      },
      "outputs": [],
      "source": [
        "esci_2_numeric = {\n",
        "        'E' : 20,\n",
        "        'S' : 5,\n",
        "        'C' : 1,\n",
        "        'I' : 0,\n",
        "}\n",
        "train['label'] = train['esci_label'].apply(lambda esci_label: esci_2_numeric[esci_label])"
      ]
    },
    {
      "cell_type": "code",
      "source": [
        "train.head(2)"
      ],
      "metadata": {
        "id": "Ao103WsR6jiP",
        "outputId": "0b69d196-670b-4bed-8254-f0f57cb910ab",
        "colab": {
          "base_uri": "https://localhost:8080/",
          "height": 266
        }
      },
      "id": "Ao103WsR6jiP",
      "execution_count": 78,
      "outputs": [
        {
          "output_type": "execute_result",
          "data": {
            "text/plain": [
              "   example_id                         query  query_id  product_id  \\\n",
              "0          16  !awnmower tires without rims         1  B075SCHMPY   \n",
              "1          17  !awnmower tires without rims         1  B08L3B9B9P   \n",
              "\n",
              "  product_locale esci_label  small_version  large_version  split  bm25(brand)  \\\n",
              "0             us          I              1              1  train          0.0   \n",
              "1             us          E              1              1  train          0.0   \n",
              "\n",
              "   ...  max_title_significance  mean_title_significance  term(0).significance  \\\n",
              "0  ...                     1.0                 0.746949                   1.0   \n",
              "1  ...                     1.0                 0.746949                   1.0   \n",
              "\n",
              "   term(1).significance  term(2).significance  term(3).significance  \\\n",
              "0              0.694141              0.588769              0.704887   \n",
              "1              0.694141              0.588769              0.704887   \n",
              "\n",
              "   term(4).significance  textSimilarity(title).order  \\\n",
              "0                   0.5                          0.0   \n",
              "1                   0.5                          1.0   \n",
              "\n",
              "   textSimilarity(title).proximity  label  \n",
              "0                           0.0000      0  \n",
              "1                           0.9375     20  \n",
              "\n",
              "[2 rows x 53 columns]"
            ],
            "text/html": [
              "\n",
              "  <div id=\"df-497f3e89-5b24-486b-9e5e-e08c617905af\" class=\"colab-df-container\">\n",
              "    <div>\n",
              "<style scoped>\n",
              "    .dataframe tbody tr th:only-of-type {\n",
              "        vertical-align: middle;\n",
              "    }\n",
              "\n",
              "    .dataframe tbody tr th {\n",
              "        vertical-align: top;\n",
              "    }\n",
              "\n",
              "    .dataframe thead th {\n",
              "        text-align: right;\n",
              "    }\n",
              "</style>\n",
              "<table border=\"1\" class=\"dataframe\">\n",
              "  <thead>\n",
              "    <tr style=\"text-align: right;\">\n",
              "      <th></th>\n",
              "      <th>example_id</th>\n",
              "      <th>query</th>\n",
              "      <th>query_id</th>\n",
              "      <th>product_id</th>\n",
              "      <th>product_locale</th>\n",
              "      <th>esci_label</th>\n",
              "      <th>small_version</th>\n",
              "      <th>large_version</th>\n",
              "      <th>split</th>\n",
              "      <th>bm25(brand)</th>\n",
              "      <th>...</th>\n",
              "      <th>max_title_significance</th>\n",
              "      <th>mean_title_significance</th>\n",
              "      <th>term(0).significance</th>\n",
              "      <th>term(1).significance</th>\n",
              "      <th>term(2).significance</th>\n",
              "      <th>term(3).significance</th>\n",
              "      <th>term(4).significance</th>\n",
              "      <th>textSimilarity(title).order</th>\n",
              "      <th>textSimilarity(title).proximity</th>\n",
              "      <th>label</th>\n",
              "    </tr>\n",
              "  </thead>\n",
              "  <tbody>\n",
              "    <tr>\n",
              "      <th>0</th>\n",
              "      <td>16</td>\n",
              "      <td>!awnmower tires without rims</td>\n",
              "      <td>1</td>\n",
              "      <td>B075SCHMPY</td>\n",
              "      <td>us</td>\n",
              "      <td>I</td>\n",
              "      <td>1</td>\n",
              "      <td>1</td>\n",
              "      <td>train</td>\n",
              "      <td>0.0</td>\n",
              "      <td>...</td>\n",
              "      <td>1.0</td>\n",
              "      <td>0.746949</td>\n",
              "      <td>1.0</td>\n",
              "      <td>0.694141</td>\n",
              "      <td>0.588769</td>\n",
              "      <td>0.704887</td>\n",
              "      <td>0.5</td>\n",
              "      <td>0.0</td>\n",
              "      <td>0.0000</td>\n",
              "      <td>0</td>\n",
              "    </tr>\n",
              "    <tr>\n",
              "      <th>1</th>\n",
              "      <td>17</td>\n",
              "      <td>!awnmower tires without rims</td>\n",
              "      <td>1</td>\n",
              "      <td>B08L3B9B9P</td>\n",
              "      <td>us</td>\n",
              "      <td>E</td>\n",
              "      <td>1</td>\n",
              "      <td>1</td>\n",
              "      <td>train</td>\n",
              "      <td>0.0</td>\n",
              "      <td>...</td>\n",
              "      <td>1.0</td>\n",
              "      <td>0.746949</td>\n",
              "      <td>1.0</td>\n",
              "      <td>0.694141</td>\n",
              "      <td>0.588769</td>\n",
              "      <td>0.704887</td>\n",
              "      <td>0.5</td>\n",
              "      <td>1.0</td>\n",
              "      <td>0.9375</td>\n",
              "      <td>20</td>\n",
              "    </tr>\n",
              "  </tbody>\n",
              "</table>\n",
              "<p>2 rows × 53 columns</p>\n",
              "</div>\n",
              "    <div class=\"colab-df-buttons\">\n",
              "\n",
              "  <div class=\"colab-df-container\">\n",
              "    <button class=\"colab-df-convert\" onclick=\"convertToInteractive('df-497f3e89-5b24-486b-9e5e-e08c617905af')\"\n",
              "            title=\"Convert this dataframe to an interactive table.\"\n",
              "            style=\"display:none;\">\n",
              "\n",
              "  <svg xmlns=\"http://www.w3.org/2000/svg\" height=\"24px\" viewBox=\"0 -960 960 960\">\n",
              "    <path d=\"M120-120v-720h720v720H120Zm60-500h600v-160H180v160Zm220 220h160v-160H400v160Zm0 220h160v-160H400v160ZM180-400h160v-160H180v160Zm440 0h160v-160H620v160ZM180-180h160v-160H180v160Zm440 0h160v-160H620v160Z\"/>\n",
              "  </svg>\n",
              "    </button>\n",
              "\n",
              "  <style>\n",
              "    .colab-df-container {\n",
              "      display:flex;\n",
              "      gap: 12px;\n",
              "    }\n",
              "\n",
              "    .colab-df-convert {\n",
              "      background-color: #E8F0FE;\n",
              "      border: none;\n",
              "      border-radius: 50%;\n",
              "      cursor: pointer;\n",
              "      display: none;\n",
              "      fill: #1967D2;\n",
              "      height: 32px;\n",
              "      padding: 0 0 0 0;\n",
              "      width: 32px;\n",
              "    }\n",
              "\n",
              "    .colab-df-convert:hover {\n",
              "      background-color: #E2EBFA;\n",
              "      box-shadow: 0px 1px 2px rgba(60, 64, 67, 0.3), 0px 1px 3px 1px rgba(60, 64, 67, 0.15);\n",
              "      fill: #174EA6;\n",
              "    }\n",
              "\n",
              "    .colab-df-buttons div {\n",
              "      margin-bottom: 4px;\n",
              "    }\n",
              "\n",
              "    [theme=dark] .colab-df-convert {\n",
              "      background-color: #3B4455;\n",
              "      fill: #D2E3FC;\n",
              "    }\n",
              "\n",
              "    [theme=dark] .colab-df-convert:hover {\n",
              "      background-color: #434B5C;\n",
              "      box-shadow: 0px 1px 3px 1px rgba(0, 0, 0, 0.15);\n",
              "      filter: drop-shadow(0px 1px 2px rgba(0, 0, 0, 0.3));\n",
              "      fill: #FFFFFF;\n",
              "    }\n",
              "  </style>\n",
              "\n",
              "    <script>\n",
              "      const buttonEl =\n",
              "        document.querySelector('#df-497f3e89-5b24-486b-9e5e-e08c617905af button.colab-df-convert');\n",
              "      buttonEl.style.display =\n",
              "        google.colab.kernel.accessAllowed ? 'block' : 'none';\n",
              "\n",
              "      async function convertToInteractive(key) {\n",
              "        const element = document.querySelector('#df-497f3e89-5b24-486b-9e5e-e08c617905af');\n",
              "        const dataTable =\n",
              "          await google.colab.kernel.invokeFunction('convertToInteractive',\n",
              "                                                    [key], {});\n",
              "        if (!dataTable) return;\n",
              "\n",
              "        const docLinkHtml = 'Like what you see? Visit the ' +\n",
              "          '<a target=\"_blank\" href=https://colab.research.google.com/notebooks/data_table.ipynb>data table notebook</a>'\n",
              "          + ' to learn more about interactive tables.';\n",
              "        element.innerHTML = '';\n",
              "        dataTable['output_type'] = 'display_data';\n",
              "        await google.colab.output.renderOutput(dataTable, element);\n",
              "        const docLink = document.createElement('div');\n",
              "        docLink.innerHTML = docLinkHtml;\n",
              "        element.appendChild(docLink);\n",
              "      }\n",
              "    </script>\n",
              "  </div>\n",
              "\n",
              "\n",
              "<div id=\"df-ea00c578-ba2e-430c-a91c-34f1bf892a71\">\n",
              "  <button class=\"colab-df-quickchart\" onclick=\"quickchart('df-ea00c578-ba2e-430c-a91c-34f1bf892a71')\"\n",
              "            title=\"Suggest charts\"\n",
              "            style=\"display:none;\">\n",
              "\n",
              "<svg xmlns=\"http://www.w3.org/2000/svg\" height=\"24px\"viewBox=\"0 0 24 24\"\n",
              "     width=\"24px\">\n",
              "    <g>\n",
              "        <path d=\"M19 3H5c-1.1 0-2 .9-2 2v14c0 1.1.9 2 2 2h14c1.1 0 2-.9 2-2V5c0-1.1-.9-2-2-2zM9 17H7v-7h2v7zm4 0h-2V7h2v10zm4 0h-2v-4h2v4z\"/>\n",
              "    </g>\n",
              "</svg>\n",
              "  </button>\n",
              "\n",
              "<style>\n",
              "  .colab-df-quickchart {\n",
              "      --bg-color: #E8F0FE;\n",
              "      --fill-color: #1967D2;\n",
              "      --hover-bg-color: #E2EBFA;\n",
              "      --hover-fill-color: #174EA6;\n",
              "      --disabled-fill-color: #AAA;\n",
              "      --disabled-bg-color: #DDD;\n",
              "  }\n",
              "\n",
              "  [theme=dark] .colab-df-quickchart {\n",
              "      --bg-color: #3B4455;\n",
              "      --fill-color: #D2E3FC;\n",
              "      --hover-bg-color: #434B5C;\n",
              "      --hover-fill-color: #FFFFFF;\n",
              "      --disabled-bg-color: #3B4455;\n",
              "      --disabled-fill-color: #666;\n",
              "  }\n",
              "\n",
              "  .colab-df-quickchart {\n",
              "    background-color: var(--bg-color);\n",
              "    border: none;\n",
              "    border-radius: 50%;\n",
              "    cursor: pointer;\n",
              "    display: none;\n",
              "    fill: var(--fill-color);\n",
              "    height: 32px;\n",
              "    padding: 0;\n",
              "    width: 32px;\n",
              "  }\n",
              "\n",
              "  .colab-df-quickchart:hover {\n",
              "    background-color: var(--hover-bg-color);\n",
              "    box-shadow: 0 1px 2px rgba(60, 64, 67, 0.3), 0 1px 3px 1px rgba(60, 64, 67, 0.15);\n",
              "    fill: var(--button-hover-fill-color);\n",
              "  }\n",
              "\n",
              "  .colab-df-quickchart-complete:disabled,\n",
              "  .colab-df-quickchart-complete:disabled:hover {\n",
              "    background-color: var(--disabled-bg-color);\n",
              "    fill: var(--disabled-fill-color);\n",
              "    box-shadow: none;\n",
              "  }\n",
              "\n",
              "  .colab-df-spinner {\n",
              "    border: 2px solid var(--fill-color);\n",
              "    border-color: transparent;\n",
              "    border-bottom-color: var(--fill-color);\n",
              "    animation:\n",
              "      spin 1s steps(1) infinite;\n",
              "  }\n",
              "\n",
              "  @keyframes spin {\n",
              "    0% {\n",
              "      border-color: transparent;\n",
              "      border-bottom-color: var(--fill-color);\n",
              "      border-left-color: var(--fill-color);\n",
              "    }\n",
              "    20% {\n",
              "      border-color: transparent;\n",
              "      border-left-color: var(--fill-color);\n",
              "      border-top-color: var(--fill-color);\n",
              "    }\n",
              "    30% {\n",
              "      border-color: transparent;\n",
              "      border-left-color: var(--fill-color);\n",
              "      border-top-color: var(--fill-color);\n",
              "      border-right-color: var(--fill-color);\n",
              "    }\n",
              "    40% {\n",
              "      border-color: transparent;\n",
              "      border-right-color: var(--fill-color);\n",
              "      border-top-color: var(--fill-color);\n",
              "    }\n",
              "    60% {\n",
              "      border-color: transparent;\n",
              "      border-right-color: var(--fill-color);\n",
              "    }\n",
              "    80% {\n",
              "      border-color: transparent;\n",
              "      border-right-color: var(--fill-color);\n",
              "      border-bottom-color: var(--fill-color);\n",
              "    }\n",
              "    90% {\n",
              "      border-color: transparent;\n",
              "      border-bottom-color: var(--fill-color);\n",
              "    }\n",
              "  }\n",
              "</style>\n",
              "\n",
              "  <script>\n",
              "    async function quickchart(key) {\n",
              "      const quickchartButtonEl =\n",
              "        document.querySelector('#' + key + ' button');\n",
              "      quickchartButtonEl.disabled = true;  // To prevent multiple clicks.\n",
              "      quickchartButtonEl.classList.add('colab-df-spinner');\n",
              "      try {\n",
              "        const charts = await google.colab.kernel.invokeFunction(\n",
              "            'suggestCharts', [key], {});\n",
              "      } catch (error) {\n",
              "        console.error('Error during call to suggestCharts:', error);\n",
              "      }\n",
              "      quickchartButtonEl.classList.remove('colab-df-spinner');\n",
              "      quickchartButtonEl.classList.add('colab-df-quickchart-complete');\n",
              "    }\n",
              "    (() => {\n",
              "      let quickchartButtonEl =\n",
              "        document.querySelector('#df-ea00c578-ba2e-430c-a91c-34f1bf892a71 button');\n",
              "      quickchartButtonEl.style.display =\n",
              "        google.colab.kernel.accessAllowed ? 'block' : 'none';\n",
              "    })();\n",
              "  </script>\n",
              "</div>\n",
              "\n",
              "    </div>\n",
              "  </div>\n"
            ],
            "application/vnd.google.colaboratory.intrinsic+json": {
              "type": "dataframe",
              "variable_name": "train"
            }
          },
          "metadata": {},
          "execution_count": 78
        }
      ]
    },
    {
      "cell_type": "markdown",
      "id": "a664c4a3",
      "metadata": {
        "id": "a664c4a3"
      },
      "source": [
        "We create a dev split from the original train split (80:20 split)"
      ]
    },
    {
      "cell_type": "code",
      "execution_count": 79,
      "id": "1294b310",
      "metadata": {
        "id": "1294b310"
      },
      "outputs": [],
      "source": [
        "train_queries = pandas.read_parquet('https://data.vespa-cloud.com/sample-apps-data/train_query_ids.parquet')['query_id'].unique()\n",
        "dev_queries = pandas.read_parquet('https://data.vespa-cloud.com/sample-apps-data/dev_query_ids.parquet')['query_id'].unique()"
      ]
    },
    {
      "cell_type": "markdown",
      "id": "84872077",
      "metadata": {
        "id": "84872077"
      },
      "source": [
        "We filter so that we end up with two splits or the original train dataset. This way we can evaluate performance on the dev set and we avoid tuning hyperparameters based on observed test set performance."
      ]
    },
    {
      "cell_type": "code",
      "execution_count": 80,
      "id": "de18b91c",
      "metadata": {
        "id": "de18b91c"
      },
      "outputs": [],
      "source": [
        "df_train = train[train['query_id'].isin(train_queries)]\n",
        "df_dev = train[train['query_id'].isin(dev_queries)]"
      ]
    },
    {
      "cell_type": "markdown",
      "id": "f6548de0",
      "metadata": {
        "id": "f6548de0"
      },
      "source": [
        "We need to group by query_id so that XGBoost knows which products belongs to which query."
      ]
    },
    {
      "cell_type": "code",
      "execution_count": 81,
      "id": "acf75548",
      "metadata": {
        "id": "acf75548"
      },
      "outputs": [],
      "source": [
        "train_query_groups=df_train['query_id'].value_counts().sort_index().values\n",
        "dev_query_groups=df_dev['query_id'].value_counts().sort_index().values"
      ]
    },
    {
      "cell_type": "markdown",
      "id": "73177d51",
      "metadata": {
        "id": "73177d51"
      },
      "source": [
        "The label we want to predict  "
      ]
    },
    {
      "cell_type": "code",
      "execution_count": 82,
      "id": "5fdadc19",
      "metadata": {
        "id": "5fdadc19"
      },
      "outputs": [],
      "source": [
        "train_target = df_train['label'].values\n",
        "dev_target = df_dev['label'].values"
      ]
    },
    {
      "cell_type": "markdown",
      "id": "398c14a9",
      "metadata": {
        "id": "398c14a9"
      },
      "source": [
        "Drop columns that we don't need during training, after this we are left with just the pure features"
      ]
    },
    {
      "cell_type": "code",
      "execution_count": 83,
      "id": "42e3d3b9",
      "metadata": {
        "id": "42e3d3b9"
      },
      "outputs": [],
      "source": [
        "drop_fields = ['example_id', 'query', 'query_id', 'product_id', 'product_locale', 'esci_label', 'small_version', 'large_version', 'split', 'label']\n"
      ]
    },
    {
      "cell_type": "code",
      "execution_count": 84,
      "id": "ea3cba73",
      "metadata": {
        "id": "ea3cba73"
      },
      "outputs": [],
      "source": [
        "df_dev = df_dev.drop(drop_fields, axis=1)\n",
        "df_train = df_train.drop(drop_fields, axis=1)"
      ]
    },
    {
      "cell_type": "markdown",
      "id": "9dde7561",
      "metadata": {
        "id": "9dde7561"
      },
      "source": [
        "In this case, we choose a subset of features to train with. Deleting this cell, trains on all available features."
      ]
    },
    {
      "cell_type": "code",
      "execution_count": 85,
      "id": "3584d6b1",
      "metadata": {
        "id": "3584d6b1"
      },
      "outputs": [],
      "source": [
        "keep_features = ['bi_encoder', 'bm25(title)', 'bm25(description)', 'bm25(bullets)', 'nativeRank(title)']\n",
        "df_dev = df_dev[keep_features]\n",
        "df_train = df_train[keep_features]"
      ]
    },
    {
      "cell_type": "code",
      "source": [
        "df_train.head(2)"
      ],
      "metadata": {
        "id": "IeAc2bkJ676U",
        "outputId": "749948b7-ed31-4b64-e817-61f0b0883ad8",
        "colab": {
          "base_uri": "https://localhost:8080/",
          "height": 112
        }
      },
      "id": "IeAc2bkJ676U",
      "execution_count": 86,
      "outputs": [
        {
          "output_type": "execute_result",
          "data": {
            "text/plain": [
              "   bi_encoder  bm25(title)  bm25(description)  bm25(bullets)  \\\n",
              "0    0.468920     4.984932          14.295459      13.659327   \n",
              "1    0.480936    10.470566          17.009160      10.367830   \n",
              "\n",
              "   nativeRank(title)  \n",
              "0           0.030665  \n",
              "1           0.065069  "
            ],
            "text/html": [
              "\n",
              "  <div id=\"df-0c35e072-bcf4-4a8f-a6f5-5085a8b91b55\" class=\"colab-df-container\">\n",
              "    <div>\n",
              "<style scoped>\n",
              "    .dataframe tbody tr th:only-of-type {\n",
              "        vertical-align: middle;\n",
              "    }\n",
              "\n",
              "    .dataframe tbody tr th {\n",
              "        vertical-align: top;\n",
              "    }\n",
              "\n",
              "    .dataframe thead th {\n",
              "        text-align: right;\n",
              "    }\n",
              "</style>\n",
              "<table border=\"1\" class=\"dataframe\">\n",
              "  <thead>\n",
              "    <tr style=\"text-align: right;\">\n",
              "      <th></th>\n",
              "      <th>bi_encoder</th>\n",
              "      <th>bm25(title)</th>\n",
              "      <th>bm25(description)</th>\n",
              "      <th>bm25(bullets)</th>\n",
              "      <th>nativeRank(title)</th>\n",
              "    </tr>\n",
              "  </thead>\n",
              "  <tbody>\n",
              "    <tr>\n",
              "      <th>0</th>\n",
              "      <td>0.468920</td>\n",
              "      <td>4.984932</td>\n",
              "      <td>14.295459</td>\n",
              "      <td>13.659327</td>\n",
              "      <td>0.030665</td>\n",
              "    </tr>\n",
              "    <tr>\n",
              "      <th>1</th>\n",
              "      <td>0.480936</td>\n",
              "      <td>10.470566</td>\n",
              "      <td>17.009160</td>\n",
              "      <td>10.367830</td>\n",
              "      <td>0.065069</td>\n",
              "    </tr>\n",
              "  </tbody>\n",
              "</table>\n",
              "</div>\n",
              "    <div class=\"colab-df-buttons\">\n",
              "\n",
              "  <div class=\"colab-df-container\">\n",
              "    <button class=\"colab-df-convert\" onclick=\"convertToInteractive('df-0c35e072-bcf4-4a8f-a6f5-5085a8b91b55')\"\n",
              "            title=\"Convert this dataframe to an interactive table.\"\n",
              "            style=\"display:none;\">\n",
              "\n",
              "  <svg xmlns=\"http://www.w3.org/2000/svg\" height=\"24px\" viewBox=\"0 -960 960 960\">\n",
              "    <path d=\"M120-120v-720h720v720H120Zm60-500h600v-160H180v160Zm220 220h160v-160H400v160Zm0 220h160v-160H400v160ZM180-400h160v-160H180v160Zm440 0h160v-160H620v160ZM180-180h160v-160H180v160Zm440 0h160v-160H620v160Z\"/>\n",
              "  </svg>\n",
              "    </button>\n",
              "\n",
              "  <style>\n",
              "    .colab-df-container {\n",
              "      display:flex;\n",
              "      gap: 12px;\n",
              "    }\n",
              "\n",
              "    .colab-df-convert {\n",
              "      background-color: #E8F0FE;\n",
              "      border: none;\n",
              "      border-radius: 50%;\n",
              "      cursor: pointer;\n",
              "      display: none;\n",
              "      fill: #1967D2;\n",
              "      height: 32px;\n",
              "      padding: 0 0 0 0;\n",
              "      width: 32px;\n",
              "    }\n",
              "\n",
              "    .colab-df-convert:hover {\n",
              "      background-color: #E2EBFA;\n",
              "      box-shadow: 0px 1px 2px rgba(60, 64, 67, 0.3), 0px 1px 3px 1px rgba(60, 64, 67, 0.15);\n",
              "      fill: #174EA6;\n",
              "    }\n",
              "\n",
              "    .colab-df-buttons div {\n",
              "      margin-bottom: 4px;\n",
              "    }\n",
              "\n",
              "    [theme=dark] .colab-df-convert {\n",
              "      background-color: #3B4455;\n",
              "      fill: #D2E3FC;\n",
              "    }\n",
              "\n",
              "    [theme=dark] .colab-df-convert:hover {\n",
              "      background-color: #434B5C;\n",
              "      box-shadow: 0px 1px 3px 1px rgba(0, 0, 0, 0.15);\n",
              "      filter: drop-shadow(0px 1px 2px rgba(0, 0, 0, 0.3));\n",
              "      fill: #FFFFFF;\n",
              "    }\n",
              "  </style>\n",
              "\n",
              "    <script>\n",
              "      const buttonEl =\n",
              "        document.querySelector('#df-0c35e072-bcf4-4a8f-a6f5-5085a8b91b55 button.colab-df-convert');\n",
              "      buttonEl.style.display =\n",
              "        google.colab.kernel.accessAllowed ? 'block' : 'none';\n",
              "\n",
              "      async function convertToInteractive(key) {\n",
              "        const element = document.querySelector('#df-0c35e072-bcf4-4a8f-a6f5-5085a8b91b55');\n",
              "        const dataTable =\n",
              "          await google.colab.kernel.invokeFunction('convertToInteractive',\n",
              "                                                    [key], {});\n",
              "        if (!dataTable) return;\n",
              "\n",
              "        const docLinkHtml = 'Like what you see? Visit the ' +\n",
              "          '<a target=\"_blank\" href=https://colab.research.google.com/notebooks/data_table.ipynb>data table notebook</a>'\n",
              "          + ' to learn more about interactive tables.';\n",
              "        element.innerHTML = '';\n",
              "        dataTable['output_type'] = 'display_data';\n",
              "        await google.colab.output.renderOutput(dataTable, element);\n",
              "        const docLink = document.createElement('div');\n",
              "        docLink.innerHTML = docLinkHtml;\n",
              "        element.appendChild(docLink);\n",
              "      }\n",
              "    </script>\n",
              "  </div>\n",
              "\n",
              "\n",
              "<div id=\"df-b2deea7c-1158-4f51-ba4f-1b2b48a6bcfc\">\n",
              "  <button class=\"colab-df-quickchart\" onclick=\"quickchart('df-b2deea7c-1158-4f51-ba4f-1b2b48a6bcfc')\"\n",
              "            title=\"Suggest charts\"\n",
              "            style=\"display:none;\">\n",
              "\n",
              "<svg xmlns=\"http://www.w3.org/2000/svg\" height=\"24px\"viewBox=\"0 0 24 24\"\n",
              "     width=\"24px\">\n",
              "    <g>\n",
              "        <path d=\"M19 3H5c-1.1 0-2 .9-2 2v14c0 1.1.9 2 2 2h14c1.1 0 2-.9 2-2V5c0-1.1-.9-2-2-2zM9 17H7v-7h2v7zm4 0h-2V7h2v10zm4 0h-2v-4h2v4z\"/>\n",
              "    </g>\n",
              "</svg>\n",
              "  </button>\n",
              "\n",
              "<style>\n",
              "  .colab-df-quickchart {\n",
              "      --bg-color: #E8F0FE;\n",
              "      --fill-color: #1967D2;\n",
              "      --hover-bg-color: #E2EBFA;\n",
              "      --hover-fill-color: #174EA6;\n",
              "      --disabled-fill-color: #AAA;\n",
              "      --disabled-bg-color: #DDD;\n",
              "  }\n",
              "\n",
              "  [theme=dark] .colab-df-quickchart {\n",
              "      --bg-color: #3B4455;\n",
              "      --fill-color: #D2E3FC;\n",
              "      --hover-bg-color: #434B5C;\n",
              "      --hover-fill-color: #FFFFFF;\n",
              "      --disabled-bg-color: #3B4455;\n",
              "      --disabled-fill-color: #666;\n",
              "  }\n",
              "\n",
              "  .colab-df-quickchart {\n",
              "    background-color: var(--bg-color);\n",
              "    border: none;\n",
              "    border-radius: 50%;\n",
              "    cursor: pointer;\n",
              "    display: none;\n",
              "    fill: var(--fill-color);\n",
              "    height: 32px;\n",
              "    padding: 0;\n",
              "    width: 32px;\n",
              "  }\n",
              "\n",
              "  .colab-df-quickchart:hover {\n",
              "    background-color: var(--hover-bg-color);\n",
              "    box-shadow: 0 1px 2px rgba(60, 64, 67, 0.3), 0 1px 3px 1px rgba(60, 64, 67, 0.15);\n",
              "    fill: var(--button-hover-fill-color);\n",
              "  }\n",
              "\n",
              "  .colab-df-quickchart-complete:disabled,\n",
              "  .colab-df-quickchart-complete:disabled:hover {\n",
              "    background-color: var(--disabled-bg-color);\n",
              "    fill: var(--disabled-fill-color);\n",
              "    box-shadow: none;\n",
              "  }\n",
              "\n",
              "  .colab-df-spinner {\n",
              "    border: 2px solid var(--fill-color);\n",
              "    border-color: transparent;\n",
              "    border-bottom-color: var(--fill-color);\n",
              "    animation:\n",
              "      spin 1s steps(1) infinite;\n",
              "  }\n",
              "\n",
              "  @keyframes spin {\n",
              "    0% {\n",
              "      border-color: transparent;\n",
              "      border-bottom-color: var(--fill-color);\n",
              "      border-left-color: var(--fill-color);\n",
              "    }\n",
              "    20% {\n",
              "      border-color: transparent;\n",
              "      border-left-color: var(--fill-color);\n",
              "      border-top-color: var(--fill-color);\n",
              "    }\n",
              "    30% {\n",
              "      border-color: transparent;\n",
              "      border-left-color: var(--fill-color);\n",
              "      border-top-color: var(--fill-color);\n",
              "      border-right-color: var(--fill-color);\n",
              "    }\n",
              "    40% {\n",
              "      border-color: transparent;\n",
              "      border-right-color: var(--fill-color);\n",
              "      border-top-color: var(--fill-color);\n",
              "    }\n",
              "    60% {\n",
              "      border-color: transparent;\n",
              "      border-right-color: var(--fill-color);\n",
              "    }\n",
              "    80% {\n",
              "      border-color: transparent;\n",
              "      border-right-color: var(--fill-color);\n",
              "      border-bottom-color: var(--fill-color);\n",
              "    }\n",
              "    90% {\n",
              "      border-color: transparent;\n",
              "      border-bottom-color: var(--fill-color);\n",
              "    }\n",
              "  }\n",
              "</style>\n",
              "\n",
              "  <script>\n",
              "    async function quickchart(key) {\n",
              "      const quickchartButtonEl =\n",
              "        document.querySelector('#' + key + ' button');\n",
              "      quickchartButtonEl.disabled = true;  // To prevent multiple clicks.\n",
              "      quickchartButtonEl.classList.add('colab-df-spinner');\n",
              "      try {\n",
              "        const charts = await google.colab.kernel.invokeFunction(\n",
              "            'suggestCharts', [key], {});\n",
              "      } catch (error) {\n",
              "        console.error('Error during call to suggestCharts:', error);\n",
              "      }\n",
              "      quickchartButtonEl.classList.remove('colab-df-spinner');\n",
              "      quickchartButtonEl.classList.add('colab-df-quickchart-complete');\n",
              "    }\n",
              "    (() => {\n",
              "      let quickchartButtonEl =\n",
              "        document.querySelector('#df-b2deea7c-1158-4f51-ba4f-1b2b48a6bcfc button');\n",
              "      quickchartButtonEl.style.display =\n",
              "        google.colab.kernel.accessAllowed ? 'block' : 'none';\n",
              "    })();\n",
              "  </script>\n",
              "</div>\n",
              "\n",
              "    </div>\n",
              "  </div>\n"
            ],
            "application/vnd.google.colaboratory.intrinsic+json": {
              "type": "dataframe",
              "variable_name": "df_train"
            }
          },
          "metadata": {},
          "execution_count": 86
        }
      ]
    },
    {
      "cell_type": "markdown",
      "id": "582c12c6",
      "metadata": {
        "id": "582c12c6"
      },
      "source": [
        "## Prepare for training the model\n",
        "Create xgboost DMatrix of the train and dev splits. Please notice the set_group calls,\n",
        "so that the xgboost knows which data points belongs to which query."
      ]
    },
    {
      "cell_type": "code",
      "execution_count": 87,
      "id": "805cfe29",
      "metadata": {
        "id": "805cfe29"
      },
      "outputs": [],
      "source": [
        "train_ds = xgboost.DMatrix(df_train, train_target)\n",
        "train_ds.set_group(train_query_groups)\n",
        "dev_ds = xgboost.DMatrix(df_dev, dev_target)\n",
        "dev_ds.set_group(dev_query_groups)"
      ]
    },
    {
      "cell_type": "markdown",
      "id": "82fbf5db",
      "metadata": {
        "id": "82fbf5db"
      },
      "source": [
        "## Model Training\n",
        "\n",
        "Configure hyperparameters. We set `base_score` to 0 as the XGBoost export routine does not include the `base_score` bias. Vespa assumes that `base_score` is 0.\n",
        "\n",
        "We use `rank:ndcg` objective, see [XGBoost objectives](https://xgboost.readthedocs.io/en/stable/parameter.html#learning-task-parameters)\n",
        "\n",
        "Relevant ranking objectives:\n",
        "- `rank:ndcg` listwise loss\n",
        "- `rank:pairwise` pairwise loss\n",
        "\n",
        "The ranking objective does not change how we do inference with the model, only how the model is trained."
      ]
    },
    {
      "cell_type": "code",
      "execution_count": 88,
      "id": "a39a794f",
      "metadata": {
        "id": "a39a794f"
      },
      "outputs": [],
      "source": [
        "params = {\n",
        "    'objective': 'rank:ndcg',\n",
        "    'eval_metric': ['ndcg@10'],\n",
        "    'verbosity': 1,\n",
        "    'booster': 'gbtree',\n",
        "    'base_score': 0,\n",
        "    'eta': 0.05,\n",
        "    'max_depth': 8\n",
        "}"
      ]
    },
    {
      "cell_type": "markdown",
      "id": "430b272f",
      "metadata": {
        "id": "430b272f"
      },
      "source": [
        "Train the model, output's NDCG for both the train and our dev split. We use `early_stopping_rounds=50`, which will stop training if the `dev` dataset NDCG metric does not improve."
      ]
    },
    {
      "cell_type": "code",
      "execution_count": 89,
      "id": "574a6fe8",
      "metadata": {
        "id": "574a6fe8",
        "outputId": "ac0df1e4-99bc-4e39-9f87-726f974fdee7",
        "colab": {
          "base_uri": "https://localhost:8080/"
        }
      },
      "outputs": [
        {
          "output_type": "stream",
          "name": "stdout",
          "text": [
            "[0]\ttrain-ndcg@10:0.73101\tdev-ndcg@10:0.69836\n",
            "[1]\ttrain-ndcg@10:0.73978\tdev-ndcg@10:0.70348\n",
            "[2]\ttrain-ndcg@10:0.74249\tdev-ndcg@10:0.70548\n",
            "[3]\ttrain-ndcg@10:0.74368\tdev-ndcg@10:0.70637\n",
            "[4]\ttrain-ndcg@10:0.74566\tdev-ndcg@10:0.70667\n",
            "[5]\ttrain-ndcg@10:0.74626\tdev-ndcg@10:0.70603\n",
            "[6]\ttrain-ndcg@10:0.74715\tdev-ndcg@10:0.70620\n",
            "[7]\ttrain-ndcg@10:0.74807\tdev-ndcg@10:0.70672\n",
            "[8]\ttrain-ndcg@10:0.74951\tdev-ndcg@10:0.70705\n",
            "[9]\ttrain-ndcg@10:0.75002\tdev-ndcg@10:0.70708\n",
            "[10]\ttrain-ndcg@10:0.75071\tdev-ndcg@10:0.70705\n",
            "[11]\ttrain-ndcg@10:0.75128\tdev-ndcg@10:0.70784\n",
            "[12]\ttrain-ndcg@10:0.75144\tdev-ndcg@10:0.70740\n",
            "[13]\ttrain-ndcg@10:0.75205\tdev-ndcg@10:0.70807\n",
            "[14]\ttrain-ndcg@10:0.75250\tdev-ndcg@10:0.70789\n",
            "[15]\ttrain-ndcg@10:0.75287\tdev-ndcg@10:0.70807\n",
            "[16]\ttrain-ndcg@10:0.75340\tdev-ndcg@10:0.70788\n",
            "[17]\ttrain-ndcg@10:0.75343\tdev-ndcg@10:0.70784\n",
            "[18]\ttrain-ndcg@10:0.75392\tdev-ndcg@10:0.70755\n",
            "[19]\ttrain-ndcg@10:0.75427\tdev-ndcg@10:0.70749\n",
            "[20]\ttrain-ndcg@10:0.75439\tdev-ndcg@10:0.70743\n",
            "[21]\ttrain-ndcg@10:0.75490\tdev-ndcg@10:0.70704\n",
            "[22]\ttrain-ndcg@10:0.75541\tdev-ndcg@10:0.70742\n",
            "[23]\ttrain-ndcg@10:0.75593\tdev-ndcg@10:0.70807\n",
            "[24]\ttrain-ndcg@10:0.75613\tdev-ndcg@10:0.70812\n",
            "[25]\ttrain-ndcg@10:0.75643\tdev-ndcg@10:0.70804\n",
            "[26]\ttrain-ndcg@10:0.75686\tdev-ndcg@10:0.70824\n",
            "[27]\ttrain-ndcg@10:0.75707\tdev-ndcg@10:0.70818\n",
            "[28]\ttrain-ndcg@10:0.75738\tdev-ndcg@10:0.70848\n",
            "[29]\ttrain-ndcg@10:0.75765\tdev-ndcg@10:0.70783\n",
            "[30]\ttrain-ndcg@10:0.75804\tdev-ndcg@10:0.70799\n",
            "[31]\ttrain-ndcg@10:0.75843\tdev-ndcg@10:0.70820\n",
            "[32]\ttrain-ndcg@10:0.75849\tdev-ndcg@10:0.70835\n",
            "[33]\ttrain-ndcg@10:0.75900\tdev-ndcg@10:0.70818\n",
            "[34]\ttrain-ndcg@10:0.75943\tdev-ndcg@10:0.70798\n",
            "[35]\ttrain-ndcg@10:0.75978\tdev-ndcg@10:0.70838\n",
            "[36]\ttrain-ndcg@10:0.75991\tdev-ndcg@10:0.70824\n",
            "[37]\ttrain-ndcg@10:0.76020\tdev-ndcg@10:0.70815\n",
            "[38]\ttrain-ndcg@10:0.76030\tdev-ndcg@10:0.70828\n",
            "[39]\ttrain-ndcg@10:0.76068\tdev-ndcg@10:0.70811\n",
            "[40]\ttrain-ndcg@10:0.76083\tdev-ndcg@10:0.70838\n",
            "[41]\ttrain-ndcg@10:0.76105\tdev-ndcg@10:0.70867\n",
            "[42]\ttrain-ndcg@10:0.76123\tdev-ndcg@10:0.70859\n",
            "[43]\ttrain-ndcg@10:0.76143\tdev-ndcg@10:0.70862\n",
            "[44]\ttrain-ndcg@10:0.76176\tdev-ndcg@10:0.70899\n",
            "[45]\ttrain-ndcg@10:0.76188\tdev-ndcg@10:0.70905\n",
            "[46]\ttrain-ndcg@10:0.76204\tdev-ndcg@10:0.70938\n",
            "[47]\ttrain-ndcg@10:0.76218\tdev-ndcg@10:0.70943\n",
            "[48]\ttrain-ndcg@10:0.76224\tdev-ndcg@10:0.70956\n",
            "[49]\ttrain-ndcg@10:0.76270\tdev-ndcg@10:0.71006\n",
            "[50]\ttrain-ndcg@10:0.76310\tdev-ndcg@10:0.71006\n",
            "[51]\ttrain-ndcg@10:0.76323\tdev-ndcg@10:0.70966\n",
            "[52]\ttrain-ndcg@10:0.76344\tdev-ndcg@10:0.70973\n",
            "[53]\ttrain-ndcg@10:0.76348\tdev-ndcg@10:0.70967\n",
            "[54]\ttrain-ndcg@10:0.76387\tdev-ndcg@10:0.70973\n",
            "[55]\ttrain-ndcg@10:0.76421\tdev-ndcg@10:0.70963\n",
            "[56]\ttrain-ndcg@10:0.76427\tdev-ndcg@10:0.70971\n",
            "[57]\ttrain-ndcg@10:0.76440\tdev-ndcg@10:0.70983\n",
            "[58]\ttrain-ndcg@10:0.76456\tdev-ndcg@10:0.70966\n",
            "[59]\ttrain-ndcg@10:0.76476\tdev-ndcg@10:0.70933\n",
            "[60]\ttrain-ndcg@10:0.76500\tdev-ndcg@10:0.70935\n",
            "[61]\ttrain-ndcg@10:0.76514\tdev-ndcg@10:0.70956\n",
            "[62]\ttrain-ndcg@10:0.76524\tdev-ndcg@10:0.70955\n",
            "[63]\ttrain-ndcg@10:0.76545\tdev-ndcg@10:0.70972\n",
            "[64]\ttrain-ndcg@10:0.76563\tdev-ndcg@10:0.70951\n",
            "[65]\ttrain-ndcg@10:0.76581\tdev-ndcg@10:0.70951\n",
            "[66]\ttrain-ndcg@10:0.76612\tdev-ndcg@10:0.70953\n",
            "[67]\ttrain-ndcg@10:0.76606\tdev-ndcg@10:0.70960\n",
            "[68]\ttrain-ndcg@10:0.76633\tdev-ndcg@10:0.70974\n",
            "[69]\ttrain-ndcg@10:0.76639\tdev-ndcg@10:0.70956\n",
            "[70]\ttrain-ndcg@10:0.76653\tdev-ndcg@10:0.70955\n"
          ]
        }
      ],
      "source": [
        "model = xgboost.train(\n",
        "    params, train_ds, evals=[(train_ds, 'train'), (dev_ds, 'dev')],\n",
        "    num_boost_round=1000,\n",
        "    early_stopping_rounds=20\n",
        ")"
      ]
    },
    {
      "cell_type": "markdown",
      "id": "b90a40cf",
      "metadata": {
        "id": "b90a40cf"
      },
      "source": [
        "Plot feature importance"
      ]
    },
    {
      "cell_type": "code",
      "execution_count": 90,
      "id": "0449c0a2",
      "metadata": {
        "id": "0449c0a2",
        "outputId": "5f019913-6773-4525-fa78-aafd41da99da",
        "colab": {
          "base_uri": "https://localhost:8080/",
          "height": 489
        }
      },
      "outputs": [
        {
          "output_type": "execute_result",
          "data": {
            "text/plain": [
              "<Axes: title={'center': 'Feature importance'}, xlabel='F score', ylabel='Features'>"
            ]
          },
          "metadata": {},
          "execution_count": 90
        },
        {
          "output_type": "display_data",
          "data": {
            "text/plain": [
              "<Figure size 640x480 with 1 Axes>"
            ],
            "image/png": "[encoded data removed]"
          },
          "metadata": {}
        }
      ],
      "source": [
        "from xgboost import plot_importance\n",
        "plot_importance(model, max_num_features=10, importance_type='weight')"
      ]
    },
    {
      "cell_type": "markdown",
      "id": "071a0a1d",
      "metadata": {
        "id": "071a0a1d"
      },
      "source": [
        "## Export model for serving in Vespa\n",
        "\n",
        "See [importing-xgboost models](https://docs.vespa.ai/en/xgboost#exporting-models-from-xgboost) for how to import the exported JSON file into Vespa for serving. Since we used a DataFrame with column names as input, the column names are used as feature names."
      ]
    },
    {
      "cell_type": "code",
      "execution_count": 91,
      "id": "00bab1a7",
      "metadata": {
        "id": "00bab1a7"
      },
      "outputs": [],
      "source": [
        "model.dump_model('product_ranker_simple_xgboost.json', with_stats=False, dump_format='json')"
      ]
    },
    {
      "cell_type": "code",
      "source": [
        "import json\n",
        "with open('product_ranker_simple_xgboost.json', 'r') as f:\n",
        "    model_json = json.load(f)\n",
        ""
      ],
      "metadata": {
        "id": "9WVz2Q_v-e9Y"
      },
      "id": "9WVz2Q_v-e9Y",
      "execution_count": 92,
      "outputs": []
    },
    {
      "cell_type": "markdown",
      "source": [
        "Only the first 71 trees are exported (as we used early stopping). This is important as number of trees does impact inference performance."
      ],
      "metadata": {
        "id": "voiOvVTdJ47J"
      },
      "id": "voiOvVTdJ47J"
    },
    {
      "cell_type": "code",
      "source": [
        "len(model_json)"
      ],
      "metadata": {
        "id": "m8qKYN1pAqw9",
        "outputId": "c0e096b1-efe4-47dd-8b82-0c7a50c3f994",
        "colab": {
          "base_uri": "https://localhost:8080/"
        }
      },
      "id": "m8qKYN1pAqw9",
      "execution_count": 94,
      "outputs": [
        {
          "output_type": "execute_result",
          "data": {
            "text/plain": [
              "71"
            ]
          },
          "metadata": {},
          "execution_count": 94
        }
      ]
    },
    {
      "cell_type": "markdown",
      "id": "30732710",
      "metadata": {
        "id": "30732710"
      },
      "source": [
        "Place the exported `product_ranker_simple.json` file in the `models` directory in the Vespa application package and configure the rank-profile:\n",
        "\n",
        "<pre>\n",
        "rank-profile gbdt-small {\n",
        "  first-phase {\n",
        "    expression: xgboost(\"product_ranker_simple_xgboost.json\")\n",
        "  }\n",
        "}\n",
        "</pre>"
      ]
    }
  ],
  "metadata": {
    "kernelspec": {
      "display_name": "Python 3 (ipykernel)",
      "language": "python",
      "name": "python3"
    },
    "language_info": {
      "codemirror_mode": {
        "name": "ipython",
        "version": 3
      },
      "file_extension": ".py",
      "mimetype": "text/x-python",
      "name": "python",
      "nbconvert_exporter": "python",
      "pygments_lexer": "ipython3",
      "version": "3.10.8"
    },
    "colab": {
      "provenance": []
    }
  },
  "nbformat": 4,
  "nbformat_minor": 5
}